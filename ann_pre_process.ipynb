{
 "cells": [
  {
   "cell_type": "code",
   "execution_count": 41,
   "metadata": {},
   "outputs": [],
   "source": [
    "import psycopg2\n",
    "import pandas as pd\n",
    "import numpy as np\n",
    "import tensorflow as tf\n",
    "from tensorflow import keras\n",
    "from sklearn.model_selection import train_test_split\n",
    "from sklearn.preprocessing import StandardScaler, MinMaxScaler\n",
    "from sklearn.utils.class_weight import compute_class_weight\n",
    "from sklearn.metrics import accuracy_score, precision_score, recall_score, f1_score, confusion_matrix, mean_absolute_error, mean_squared_error, classification_report\n",
    "import seaborn as sns\n",
    "import matplotlib.pyplot as plt\n",
    "import joblib\n",
    "from imblearn.over_sampling import SMOTE\n",
    "from tensorflow.keras.layers import LeakyReLU\n",
    "from sklearn.cluster import KMeans\n",
    "from tensorflow.keras.layers import LeakyReLU\n",
    "from tensorflow.keras.models import Sequential\n",
    "from tensorflow.keras.layers import LSTM, Dense, Dropout\n",
    "from sklearn.metrics import mean_absolute_error, mean_squared_error\n",
    "from tensorflow.keras.models import load_model\n",
    "from tensorflow.keras.callbacks import EarlyStopping"
   ]
  },
  {
   "cell_type": "code",
   "execution_count": 2,
   "metadata": {},
   "outputs": [],
   "source": [
    "# ========== Database Connection & Data Fetching ==========\n",
    "DB_PARAMS = {\n",
    "    'dbname': 'publishing_industry',\n",
    "    'user': 'postgres',\n",
    "    'password': '240998',\n",
    "    'host': 'localhost',\n",
    "    'port': '5432'\n",
    "}\n",
    "\n",
    "# Function to establish connection\n",
    "def get_connection():\n",
    "    return psycopg2.connect(**DB_PARAMS)\n",
    "\n",
    "# Function to fetch data from PostgreSQL\n",
    "def fetch_data(query):\n",
    "    try:\n",
    "        conn = get_connection()\n",
    "        with conn.cursor() as cur:\n",
    "            cur.execute(query)\n",
    "            rows = cur.fetchall()\n",
    "            columns = [desc[0] for desc in cur.description]\n",
    "        conn.close()\n",
    "        return pd.DataFrame(rows, columns=columns)\n",
    "    except Exception as e:\n",
    "        print(f\"Error fetching data: {e}\")\n",
    "        return pd.DataFrame()"
   ]
  },
  {
   "cell_type": "code",
   "execution_count": 84,
   "metadata": {},
   "outputs": [],
   "source": [
    "# ========== Load Data from PostgreSQL ==========\n",
    "book_df = fetch_data(\"SELECT * FROM book;\")\n",
    "author_df = fetch_data(\"SELECT * FROM author;\")\n",
    "publisher_df = fetch_data(\"SELECT * FROM publisher;\")\n",
    "order_line_df = fetch_data(\"SELECT * FROM order_line;\")\n",
    "customer_df = fetch_data(\"SELECT * FROM customer;\")\n",
    "cust_order_df = fetch_data(\"SELECT * FROM cust_order;\")"
   ]
  },
  {
   "cell_type": "code",
   "execution_count": 93,
   "metadata": {},
   "outputs": [
    {
     "name": "stdout",
     "output_type": "stream",
     "text": [
      "Preprocessed book dataset saved as 'preprocessed_book_data.csv'.\n"
     ]
    }
   ],
   "source": [
    "# Fetch customer behavior data\n",
    "customer_behave_df = fetch_data(\"\"\"\n",
    "    SELECT c.customer_id, COUNT(o.order_id) AS total_orders, SUM(ol.price) AS total_spent,\n",
    "           SUM(ol.price) / NULLIF(COUNT(o.order_id), 0) AS avg_order_value,\n",
    "           MAX(o.order_date) AS last_order_date\n",
    "    FROM customer c\n",
    "    JOIN cust_order o ON c.customer_id = o.customer_id\n",
    "    JOIN order_line ol ON o.order_id = ol.order_id\n",
    "    GROUP BY c.customer_id;\n",
    "\"\"\")\n",
    "\n",
    "# Fetch book order details\n",
    "book_order_df = fetch_data(\"\"\"\n",
    "    SELECT \n",
    "        b.book_id,\n",
    "        b.title,\n",
    "        a.author_name AS author,\n",
    "        COUNT(ol.line_id) AS order_count\n",
    "    FROM book b\n",
    "    LEFT JOIN book_author ba ON b.book_id = ba.book_id\n",
    "    LEFT JOIN author a ON ba.author_id = a.author_id\n",
    "    LEFT JOIN order_line ol ON b.book_id = ol.book_id\n",
    "    GROUP BY b.book_id, b.title, a.author_name\n",
    "    ORDER BY order_count DESC;\n",
    "\"\"\")\n",
    "\n",
    "# Merge book data with publisher details\n",
    "book_df = book_df.merge(publisher_df, left_on=\"publisher_id\", right_on=\"publisher_id\", how=\"left\")\n",
    "\n",
    "# Merge book data with author and order count\n",
    "final_df = book_df.merge(book_order_df, on=\"book_id\", how=\"left\")\n",
    "\n",
    "final_df[\"title\"] = final_df[\"title_x\"]\n",
    "\n",
    "final_df = final_df.drop([\"title_x\", \"title_y\"], axis=1)\n",
    "\n",
    "# Save the final preprocessed dataset\n",
    "final_df.to_csv(\"preprocessed_book_data.csv\", index=False)\n",
    "\n",
    "print(\"Preprocessed book dataset saved as 'preprocessed_book_data.csv'.\")"
   ]
  },
  {
   "cell_type": "code",
   "execution_count": 92,
   "metadata": {},
   "outputs": [
    {
     "data": {
      "text/plain": [
       "18711"
      ]
     },
     "execution_count": 92,
     "metadata": {},
     "output_type": "execute_result"
    }
   ],
   "source": [
    "final_df[\"title_y\"].count()\n"
   ]
  },
  {
   "cell_type": "code",
   "execution_count": 94,
   "metadata": {},
   "outputs": [
    {
     "data": {
      "text/html": [
       "<div>\n",
       "<style scoped>\n",
       "    .dataframe tbody tr th:only-of-type {\n",
       "        vertical-align: middle;\n",
       "    }\n",
       "\n",
       "    .dataframe tbody tr th {\n",
       "        vertical-align: top;\n",
       "    }\n",
       "\n",
       "    .dataframe thead th {\n",
       "        text-align: right;\n",
       "    }\n",
       "</style>\n",
       "<table border=\"1\" class=\"dataframe\">\n",
       "  <thead>\n",
       "    <tr style=\"text-align: right;\">\n",
       "      <th></th>\n",
       "      <th>book_id</th>\n",
       "      <th>isbn13</th>\n",
       "      <th>language_id</th>\n",
       "      <th>num_pages</th>\n",
       "      <th>publication_date</th>\n",
       "      <th>publisher_id</th>\n",
       "      <th>publisher_name_x</th>\n",
       "      <th>publisher_name_y</th>\n",
       "      <th>author</th>\n",
       "      <th>order_count</th>\n",
       "      <th>title</th>\n",
       "    </tr>\n",
       "  </thead>\n",
       "  <tbody>\n",
       "    <tr>\n",
       "      <th>0</th>\n",
       "      <td>1</td>\n",
       "      <td>8987059752</td>\n",
       "      <td>2</td>\n",
       "      <td>276</td>\n",
       "      <td>1996-09-01</td>\n",
       "      <td>1010</td>\n",
       "      <td>Ignatius Press</td>\n",
       "      <td>Ignatius Press</td>\n",
       "      <td>Fulton J. Sheen</td>\n",
       "      <td>6</td>\n",
       "      <td>The World's First Love: Mary  Mother of God</td>\n",
       "    </tr>\n",
       "    <tr>\n",
       "      <th>1</th>\n",
       "      <td>2</td>\n",
       "      <td>20049130001</td>\n",
       "      <td>1</td>\n",
       "      <td>352</td>\n",
       "      <td>2004-10-04</td>\n",
       "      <td>1967</td>\n",
       "      <td>Thomas Nelson</td>\n",
       "      <td>Thomas Nelson</td>\n",
       "      <td>Larry Burkett</td>\n",
       "      <td>3</td>\n",
       "      <td>The Illuminati</td>\n",
       "    </tr>\n",
       "    <tr>\n",
       "      <th>2</th>\n",
       "      <td>3</td>\n",
       "      <td>23755004321</td>\n",
       "      <td>1</td>\n",
       "      <td>128</td>\n",
       "      <td>2003-03-11</td>\n",
       "      <td>1967</td>\n",
       "      <td>Thomas Nelson</td>\n",
       "      <td>Thomas Nelson</td>\n",
       "      <td>Kenneth H. Blanchard</td>\n",
       "      <td>3</td>\n",
       "      <td>The Servant Leader</td>\n",
       "    </tr>\n",
       "    <tr>\n",
       "      <th>3</th>\n",
       "      <td>4</td>\n",
       "      <td>34406054602</td>\n",
       "      <td>1</td>\n",
       "      <td>168</td>\n",
       "      <td>1999-09-01</td>\n",
       "      <td>1978</td>\n",
       "      <td>Time Life Medical</td>\n",
       "      <td>Time Life Medical</td>\n",
       "      <td>Time-Life Books</td>\n",
       "      <td>5</td>\n",
       "      <td>What Life Was Like in the Jewel in the Crown: ...</td>\n",
       "    </tr>\n",
       "    <tr>\n",
       "      <th>4</th>\n",
       "      <td>5</td>\n",
       "      <td>49086007763</td>\n",
       "      <td>1</td>\n",
       "      <td>80</td>\n",
       "      <td>1983-12-29</td>\n",
       "      <td>416</td>\n",
       "      <td>Cliffs Notes</td>\n",
       "      <td>Cliffs Notes</td>\n",
       "      <td>W. John Campbell</td>\n",
       "      <td>2</td>\n",
       "      <td>Cliffs Notes on Aristophanes' Lysistrata  The ...</td>\n",
       "    </tr>\n",
       "  </tbody>\n",
       "</table>\n",
       "</div>"
      ],
      "text/plain": [
       "   book_id       isbn13  language_id  num_pages publication_date  \\\n",
       "0        1   8987059752            2        276       1996-09-01   \n",
       "1        2  20049130001            1        352       2004-10-04   \n",
       "2        3  23755004321            1        128       2003-03-11   \n",
       "3        4  34406054602            1        168       1999-09-01   \n",
       "4        5  49086007763            1         80       1983-12-29   \n",
       "\n",
       "   publisher_id   publisher_name_x   publisher_name_y                author  \\\n",
       "0          1010     Ignatius Press     Ignatius Press       Fulton J. Sheen   \n",
       "1          1967      Thomas Nelson      Thomas Nelson         Larry Burkett   \n",
       "2          1967      Thomas Nelson      Thomas Nelson  Kenneth H. Blanchard   \n",
       "3          1978  Time Life Medical  Time Life Medical       Time-Life Books   \n",
       "4           416       Cliffs Notes       Cliffs Notes      W. John Campbell   \n",
       "\n",
       "   order_count                                              title  \n",
       "0            6        The World's First Love: Mary  Mother of God  \n",
       "1            3                                     The Illuminati  \n",
       "2            3                                 The Servant Leader  \n",
       "3            5  What Life Was Like in the Jewel in the Crown: ...  \n",
       "4            2  Cliffs Notes on Aristophanes' Lysistrata  The ...  "
      ]
     },
     "execution_count": 94,
     "metadata": {},
     "output_type": "execute_result"
    }
   ],
   "source": [
    "# Save to CSV\n",
    "final_df.head()"
   ]
  },
  {
   "cell_type": "markdown",
   "metadata": {},
   "source": [
    "# Churn Prediction Model"
   ]
  },
  {
   "cell_type": "code",
   "execution_count": 6,
   "metadata": {},
   "outputs": [],
   "source": [
    "# ========== Churn Prediction Model ==========\n",
    "# Fetch customer behavior data\n",
    "customer_behavior_df = fetch_data(\"\"\"\n",
    "    SELECT c.customer_id, COUNT(o.order_id) AS total_orders, SUM(ol.price) AS total_spent,\n",
    "           SUM(ol.price) / NULLIF(COUNT(o.order_id), 0) AS avg_order_value,\n",
    "           MAX(o.order_date) AS last_order_date\n",
    "    FROM customer c\n",
    "    JOIN cust_order o ON c.customer_id = o.customer_id\n",
    "    JOIN order_line ol ON o.order_id = ol.order_id\n",
    "    GROUP BY c.customer_id;\n",
    "\"\"\")"
   ]
  },
  {
   "cell_type": "code",
   "execution_count": 7,
   "metadata": {},
   "outputs": [],
   "source": [
    "# Convert last_order_date to datetime\n",
    "customer_behavior_df['last_order_date'] = pd.to_datetime(customer_behavior_df['last_order_date'])\n",
    "customer_behavior_df['days_since_last_order'] = (pd.Timestamp.now() - customer_behavior_df['last_order_date']).dt.days\n",
    "customer_behavior_df.drop(columns=['last_order_date'], inplace=True)\n"
   ]
  },
  {
   "cell_type": "code",
   "execution_count": 8,
   "metadata": {},
   "outputs": [
    {
     "name": "stdout",
     "output_type": "stream",
     "text": [
      "churn_category\n",
      "4    913\n",
      "0    385\n",
      "2    254\n",
      "1    224\n",
      "3    224\n",
      "Name: count, dtype: int64\n"
     ]
    }
   ],
   "source": [
    "# ========== Define Multiclass Churn Labels ==========\n",
    "# 0 = Not Churned (Active), 1 = Low Risk (120-180 days inactive), 2 = Medium Risk (180-270 days),\n",
    "# 3 = High Risk (270-365 days), 4 = Very High Risk (> 365 days inactive)\n",
    "conditions = [\n",
    "    (customer_behavior_df['days_since_last_order'] <= 120),  # Active\n",
    "    (customer_behavior_df['days_since_last_order'] > 120) & (customer_behavior_df['days_since_last_order'] <= 180),\n",
    "    (customer_behavior_df['days_since_last_order'] > 180) & (customer_behavior_df['days_since_last_order'] <= 270),\n",
    "    (customer_behavior_df['days_since_last_order'] > 270) & (customer_behavior_df['days_since_last_order'] <= 365),\n",
    "    (customer_behavior_df['days_since_last_order'] > 365)  # Very High Risk\n",
    "]\n",
    "churn_labels = [0, 1, 2, 3, 4]\n",
    "customer_behavior_df['churn_category'] = np.select(conditions, churn_labels)\n",
    "\n",
    "# Check the distribution\n",
    "print(customer_behavior_df['churn_category'].value_counts())"
   ]
  },
  {
   "cell_type": "code",
   "execution_count": 9,
   "metadata": {},
   "outputs": [],
   "source": [
    "# Define features (X) and target (y)\n",
    "X = customer_behavior_df.drop(columns=['customer_id', 'churn_category'])\n",
    "y = customer_behavior_df['churn_category']\n",
    "\n",
    "# Split dataset\n",
    "X_train, X_test, y_train, y_test = train_test_split(X, y, test_size=0.2, random_state=42, stratify=y)\n"
   ]
  },
  {
   "cell_type": "code",
   "execution_count": 10,
   "metadata": {},
   "outputs": [
    {
     "data": {
      "text/plain": [
       "['churn_scaler.pkl']"
      ]
     },
     "execution_count": 10,
     "metadata": {},
     "output_type": "execute_result"
    }
   ],
   "source": [
    "# Scale features\n",
    "scaler = StandardScaler()\n",
    "X_train = scaler.fit_transform(X_train)\n",
    "X_test = scaler.transform(X_test)\n",
    "joblib.dump(scaler, \"churn_scaler.pkl\")"
   ]
  },
  {
   "cell_type": "code",
   "execution_count": 11,
   "metadata": {},
   "outputs": [
    {
     "name": "stdout",
     "output_type": "stream",
     "text": [
      "Class distribution after SMOTE:\n",
      "churn_category\n",
      "3    731\n",
      "0    731\n",
      "1    731\n",
      "4    731\n",
      "2    731\n",
      "Name: count, dtype: int64\n"
     ]
    }
   ],
   "source": [
    "# Handle Class Imbalance using SMOTE\n",
    "smote = SMOTE(random_state=42)\n",
    "X_train_resampled, y_train_resampled = smote.fit_resample(X_train, y_train)\n",
    "\n",
    "# Check the distribution after SMOTE\n",
    "print(\"Class distribution after SMOTE:\")\n",
    "print(pd.Series(y_train_resampled).value_counts())"
   ]
  },
  {
   "cell_type": "code",
   "execution_count": 12,
   "metadata": {},
   "outputs": [
    {
     "name": "stderr",
     "output_type": "stream",
     "text": [
      "c:\\Users\\abdul\\AppData\\Local\\Programs\\Python\\Python311\\Lib\\site-packages\\keras\\src\\layers\\activations\\leaky_relu.py:41: UserWarning: Argument `alpha` is deprecated. Use `negative_slope` instead.\n",
      "  warnings.warn(\n",
      "c:\\Users\\abdul\\AppData\\Local\\Programs\\Python\\Python311\\Lib\\site-packages\\keras\\src\\layers\\core\\dense.py:87: UserWarning: Do not pass an `input_shape`/`input_dim` argument to a layer. When using Sequential models, prefer using an `Input(shape)` object as the first layer in the model instead.\n",
      "  super().__init__(activity_regularizer=activity_regularizer, **kwargs)\n"
     ]
    },
    {
     "name": "stdout",
     "output_type": "stream",
     "text": [
      "Epoch 1/50\n",
      "\u001b[1m115/115\u001b[0m \u001b[32m━━━━━━━━━━━━━━━━━━━━\u001b[0m\u001b[37m\u001b[0m \u001b[1m3s\u001b[0m 6ms/step - accuracy: 0.3406 - loss: 1.4393 - val_accuracy: 0.7225 - val_loss: 0.7760\n",
      "Epoch 2/50\n",
      "\u001b[1m115/115\u001b[0m \u001b[32m━━━━━━━━━━━━━━━━━━━━\u001b[0m\u001b[37m\u001b[0m \u001b[1m0s\u001b[0m 3ms/step - accuracy: 0.6389 - loss: 0.9186 - val_accuracy: 0.8425 - val_loss: 0.4715\n",
      "Epoch 3/50\n",
      "\u001b[1m115/115\u001b[0m \u001b[32m━━━━━━━━━━━━━━━━━━━━\u001b[0m\u001b[37m\u001b[0m \u001b[1m0s\u001b[0m 2ms/step - accuracy: 0.7242 - loss: 0.6723 - val_accuracy: 0.8950 - val_loss: 0.3431\n",
      "Epoch 4/50\n",
      "\u001b[1m115/115\u001b[0m \u001b[32m━━━━━━━━━━━━━━━━━━━━\u001b[0m\u001b[37m\u001b[0m \u001b[1m0s\u001b[0m 2ms/step - accuracy: 0.7860 - loss: 0.5196 - val_accuracy: 0.9075 - val_loss: 0.2713\n",
      "Epoch 5/50\n",
      "\u001b[1m115/115\u001b[0m \u001b[32m━━━━━━━━━━━━━━━━━━━━\u001b[0m\u001b[37m\u001b[0m \u001b[1m0s\u001b[0m 3ms/step - accuracy: 0.8431 - loss: 0.4106 - val_accuracy: 0.9275 - val_loss: 0.2150\n",
      "Epoch 6/50\n",
      "\u001b[1m115/115\u001b[0m \u001b[32m━━━━━━━━━━━━━━━━━━━━\u001b[0m\u001b[37m\u001b[0m \u001b[1m0s\u001b[0m 2ms/step - accuracy: 0.8616 - loss: 0.3494 - val_accuracy: 0.9375 - val_loss: 0.1833\n",
      "Epoch 7/50\n",
      "\u001b[1m115/115\u001b[0m \u001b[32m━━━━━━━━━━━━━━━━━━━━\u001b[0m\u001b[37m\u001b[0m \u001b[1m0s\u001b[0m 2ms/step - accuracy: 0.8827 - loss: 0.2994 - val_accuracy: 0.9525 - val_loss: 0.1461\n",
      "Epoch 8/50\n",
      "\u001b[1m115/115\u001b[0m \u001b[32m━━━━━━━━━━━━━━━━━━━━\u001b[0m\u001b[37m\u001b[0m \u001b[1m0s\u001b[0m 3ms/step - accuracy: 0.9142 - loss: 0.2544 - val_accuracy: 0.9475 - val_loss: 0.1393\n",
      "Epoch 9/50\n",
      "\u001b[1m115/115\u001b[0m \u001b[32m━━━━━━━━━━━━━━━━━━━━\u001b[0m\u001b[37m\u001b[0m \u001b[1m0s\u001b[0m 4ms/step - accuracy: 0.9123 - loss: 0.2333 - val_accuracy: 0.9625 - val_loss: 0.1158\n",
      "Epoch 10/50\n",
      "\u001b[1m115/115\u001b[0m \u001b[32m━━━━━━━━━━━━━━━━━━━━\u001b[0m\u001b[37m\u001b[0m \u001b[1m0s\u001b[0m 4ms/step - accuracy: 0.9331 - loss: 0.1942 - val_accuracy: 0.9400 - val_loss: 0.1404\n",
      "Epoch 11/50\n",
      "\u001b[1m115/115\u001b[0m \u001b[32m━━━━━━━━━━━━━━━━━━━━\u001b[0m\u001b[37m\u001b[0m \u001b[1m0s\u001b[0m 2ms/step - accuracy: 0.9156 - loss: 0.2122 - val_accuracy: 0.9750 - val_loss: 0.0901\n",
      "Epoch 12/50\n",
      "\u001b[1m115/115\u001b[0m \u001b[32m━━━━━━━━━━━━━━━━━━━━\u001b[0m\u001b[37m\u001b[0m \u001b[1m0s\u001b[0m 2ms/step - accuracy: 0.9275 - loss: 0.1785 - val_accuracy: 0.9700 - val_loss: 0.0920\n",
      "Epoch 13/50\n",
      "\u001b[1m115/115\u001b[0m \u001b[32m━━━━━━━━━━━━━━━━━━━━\u001b[0m\u001b[37m\u001b[0m \u001b[1m0s\u001b[0m 2ms/step - accuracy: 0.9399 - loss: 0.1643 - val_accuracy: 0.9925 - val_loss: 0.0722\n",
      "Epoch 14/50\n",
      "\u001b[1m115/115\u001b[0m \u001b[32m━━━━━━━━━━━━━━━━━━━━\u001b[0m\u001b[37m\u001b[0m \u001b[1m0s\u001b[0m 2ms/step - accuracy: 0.9409 - loss: 0.1562 - val_accuracy: 0.9650 - val_loss: 0.0865\n",
      "Epoch 15/50\n",
      "\u001b[1m115/115\u001b[0m \u001b[32m━━━━━━━━━━━━━━━━━━━━\u001b[0m\u001b[37m\u001b[0m \u001b[1m0s\u001b[0m 2ms/step - accuracy: 0.9346 - loss: 0.1459 - val_accuracy: 0.9750 - val_loss: 0.0748\n",
      "Epoch 16/50\n",
      "\u001b[1m115/115\u001b[0m \u001b[32m━━━━━━━━━━━━━━━━━━━━\u001b[0m\u001b[37m\u001b[0m \u001b[1m0s\u001b[0m 2ms/step - accuracy: 0.9361 - loss: 0.1600 - val_accuracy: 0.9800 - val_loss: 0.0699\n",
      "Epoch 17/50\n",
      "\u001b[1m115/115\u001b[0m \u001b[32m━━━━━━━━━━━━━━━━━━━━\u001b[0m\u001b[37m\u001b[0m \u001b[1m0s\u001b[0m 3ms/step - accuracy: 0.9503 - loss: 0.1269 - val_accuracy: 0.9825 - val_loss: 0.0674\n",
      "Epoch 18/50\n",
      "\u001b[1m115/115\u001b[0m \u001b[32m━━━━━━━━━━━━━━━━━━━━\u001b[0m\u001b[37m\u001b[0m \u001b[1m0s\u001b[0m 4ms/step - accuracy: 0.9466 - loss: 0.1354 - val_accuracy: 0.9800 - val_loss: 0.0665\n",
      "Epoch 19/50\n",
      "\u001b[1m115/115\u001b[0m \u001b[32m━━━━━━━━━━━━━━━━━━━━\u001b[0m\u001b[37m\u001b[0m \u001b[1m0s\u001b[0m 4ms/step - accuracy: 0.9443 - loss: 0.1353 - val_accuracy: 0.9775 - val_loss: 0.0689\n",
      "Epoch 20/50\n",
      "\u001b[1m115/115\u001b[0m \u001b[32m━━━━━━━━━━━━━━━━━━━━\u001b[0m\u001b[37m\u001b[0m \u001b[1m0s\u001b[0m 3ms/step - accuracy: 0.9505 - loss: 0.1238 - val_accuracy: 0.9825 - val_loss: 0.0629\n",
      "Epoch 21/50\n",
      "\u001b[1m115/115\u001b[0m \u001b[32m━━━━━━━━━━━━━━━━━━━━\u001b[0m\u001b[37m\u001b[0m \u001b[1m0s\u001b[0m 3ms/step - accuracy: 0.9499 - loss: 0.1250 - val_accuracy: 0.9900 - val_loss: 0.0597\n",
      "Epoch 22/50\n",
      "\u001b[1m115/115\u001b[0m \u001b[32m━━━━━━━━━━━━━━━━━━━━\u001b[0m\u001b[37m\u001b[0m \u001b[1m0s\u001b[0m 3ms/step - accuracy: 0.9545 - loss: 0.1313 - val_accuracy: 0.9700 - val_loss: 0.0760\n",
      "Epoch 23/50\n",
      "\u001b[1m115/115\u001b[0m \u001b[32m━━━━━━━━━━━━━━━━━━━━\u001b[0m\u001b[37m\u001b[0m \u001b[1m0s\u001b[0m 2ms/step - accuracy: 0.9498 - loss: 0.1359 - val_accuracy: 0.9800 - val_loss: 0.0533\n",
      "Epoch 24/50\n",
      "\u001b[1m115/115\u001b[0m \u001b[32m━━━━━━━━━━━━━━━━━━━━\u001b[0m\u001b[37m\u001b[0m \u001b[1m0s\u001b[0m 3ms/step - accuracy: 0.9572 - loss: 0.1061 - val_accuracy: 0.9850 - val_loss: 0.0524\n",
      "Epoch 25/50\n",
      "\u001b[1m115/115\u001b[0m \u001b[32m━━━━━━━━━━━━━━━━━━━━\u001b[0m\u001b[37m\u001b[0m \u001b[1m0s\u001b[0m 2ms/step - accuracy: 0.9601 - loss: 0.1086 - val_accuracy: 0.9825 - val_loss: 0.0584\n",
      "Epoch 26/50\n",
      "\u001b[1m115/115\u001b[0m \u001b[32m━━━━━━━━━━━━━━━━━━━━\u001b[0m\u001b[37m\u001b[0m \u001b[1m0s\u001b[0m 4ms/step - accuracy: 0.9644 - loss: 0.0945 - val_accuracy: 0.9800 - val_loss: 0.0577\n",
      "Epoch 27/50\n",
      "\u001b[1m115/115\u001b[0m \u001b[32m━━━━━━━━━━━━━━━━━━━━\u001b[0m\u001b[37m\u001b[0m \u001b[1m0s\u001b[0m 4ms/step - accuracy: 0.9597 - loss: 0.1030 - val_accuracy: 0.9900 - val_loss: 0.0494\n",
      "Epoch 28/50\n",
      "\u001b[1m115/115\u001b[0m \u001b[32m━━━━━━━━━━━━━━━━━━━━\u001b[0m\u001b[37m\u001b[0m \u001b[1m0s\u001b[0m 3ms/step - accuracy: 0.9600 - loss: 0.1004 - val_accuracy: 0.9825 - val_loss: 0.0577\n",
      "Epoch 29/50\n",
      "\u001b[1m115/115\u001b[0m \u001b[32m━━━━━━━━━━━━━━━━━━━━\u001b[0m\u001b[37m\u001b[0m \u001b[1m1s\u001b[0m 4ms/step - accuracy: 0.9599 - loss: 0.1000 - val_accuracy: 0.9800 - val_loss: 0.0563\n",
      "Epoch 30/50\n",
      "\u001b[1m115/115\u001b[0m \u001b[32m━━━━━━━━━━━━━━━━━━━━\u001b[0m\u001b[37m\u001b[0m \u001b[1m0s\u001b[0m 4ms/step - accuracy: 0.9628 - loss: 0.0958 - val_accuracy: 0.9750 - val_loss: 0.0581\n",
      "Epoch 31/50\n",
      "\u001b[1m115/115\u001b[0m \u001b[32m━━━━━━━━━━━━━━━━━━━━\u001b[0m\u001b[37m\u001b[0m \u001b[1m0s\u001b[0m 3ms/step - accuracy: 0.9663 - loss: 0.0907 - val_accuracy: 0.9825 - val_loss: 0.0483\n",
      "Epoch 32/50\n",
      "\u001b[1m115/115\u001b[0m \u001b[32m━━━━━━━━━━━━━━━━━━━━\u001b[0m\u001b[37m\u001b[0m \u001b[1m0s\u001b[0m 2ms/step - accuracy: 0.9687 - loss: 0.0853 - val_accuracy: 0.9825 - val_loss: 0.0602\n",
      "Epoch 33/50\n",
      "\u001b[1m115/115\u001b[0m \u001b[32m━━━━━━━━━━━━━━━━━━━━\u001b[0m\u001b[37m\u001b[0m \u001b[1m0s\u001b[0m 2ms/step - accuracy: 0.9673 - loss: 0.0966 - val_accuracy: 0.9750 - val_loss: 0.0569\n",
      "Epoch 34/50\n",
      "\u001b[1m115/115\u001b[0m \u001b[32m━━━━━━━━━━━━━━━━━━━━\u001b[0m\u001b[37m\u001b[0m \u001b[1m0s\u001b[0m 2ms/step - accuracy: 0.9624 - loss: 0.0983 - val_accuracy: 0.9800 - val_loss: 0.0488\n",
      "Epoch 35/50\n",
      "\u001b[1m115/115\u001b[0m \u001b[32m━━━━━━━━━━━━━━━━━━━━\u001b[0m\u001b[37m\u001b[0m \u001b[1m0s\u001b[0m 2ms/step - accuracy: 0.9678 - loss: 0.0886 - val_accuracy: 0.9875 - val_loss: 0.0490\n",
      "Epoch 36/50\n",
      "\u001b[1m115/115\u001b[0m \u001b[32m━━━━━━━━━━━━━━━━━━━━\u001b[0m\u001b[37m\u001b[0m \u001b[1m0s\u001b[0m 2ms/step - accuracy: 0.9694 - loss: 0.0828 - val_accuracy: 0.9925 - val_loss: 0.0437\n",
      "Epoch 37/50\n",
      "\u001b[1m115/115\u001b[0m \u001b[32m━━━━━━━━━━━━━━━━━━━━\u001b[0m\u001b[37m\u001b[0m \u001b[1m0s\u001b[0m 2ms/step - accuracy: 0.9586 - loss: 0.1036 - val_accuracy: 0.9800 - val_loss: 0.0522\n",
      "Epoch 38/50\n",
      "\u001b[1m115/115\u001b[0m \u001b[32m━━━━━━━━━━━━━━━━━━━━\u001b[0m\u001b[37m\u001b[0m \u001b[1m0s\u001b[0m 2ms/step - accuracy: 0.9651 - loss: 0.0836 - val_accuracy: 0.9800 - val_loss: 0.0471\n",
      "Epoch 39/50\n",
      "\u001b[1m115/115\u001b[0m \u001b[32m━━━━━━━━━━━━━━━━━━━━\u001b[0m\u001b[37m\u001b[0m \u001b[1m0s\u001b[0m 2ms/step - accuracy: 0.9730 - loss: 0.0777 - val_accuracy: 0.9900 - val_loss: 0.0433\n",
      "Epoch 40/50\n",
      "\u001b[1m115/115\u001b[0m \u001b[32m━━━━━━━━━━━━━━━━━━━━\u001b[0m\u001b[37m\u001b[0m \u001b[1m0s\u001b[0m 2ms/step - accuracy: 0.9653 - loss: 0.0879 - val_accuracy: 0.9775 - val_loss: 0.0534\n",
      "Epoch 41/50\n",
      "\u001b[1m115/115\u001b[0m \u001b[32m━━━━━━━━━━━━━━━━━━━━\u001b[0m\u001b[37m\u001b[0m \u001b[1m0s\u001b[0m 2ms/step - accuracy: 0.9669 - loss: 0.0814 - val_accuracy: 0.9950 - val_loss: 0.0371\n",
      "Epoch 42/50\n",
      "\u001b[1m115/115\u001b[0m \u001b[32m━━━━━━━━━━━━━━━━━━━━\u001b[0m\u001b[37m\u001b[0m \u001b[1m0s\u001b[0m 2ms/step - accuracy: 0.9710 - loss: 0.0821 - val_accuracy: 0.9900 - val_loss: 0.0382\n",
      "Epoch 43/50\n",
      "\u001b[1m115/115\u001b[0m \u001b[32m━━━━━━━━━━━━━━━━━━━━\u001b[0m\u001b[37m\u001b[0m \u001b[1m0s\u001b[0m 2ms/step - accuracy: 0.9655 - loss: 0.0822 - val_accuracy: 0.9850 - val_loss: 0.0456\n",
      "Epoch 44/50\n",
      "\u001b[1m115/115\u001b[0m \u001b[32m━━━━━━━━━━━━━━━━━━━━\u001b[0m\u001b[37m\u001b[0m \u001b[1m0s\u001b[0m 2ms/step - accuracy: 0.9707 - loss: 0.0774 - val_accuracy: 0.9875 - val_loss: 0.0393\n",
      "Epoch 45/50\n",
      "\u001b[1m115/115\u001b[0m \u001b[32m━━━━━━━━━━━━━━━━━━━━\u001b[0m\u001b[37m\u001b[0m \u001b[1m0s\u001b[0m 2ms/step - accuracy: 0.9721 - loss: 0.0692 - val_accuracy: 0.9850 - val_loss: 0.0428\n",
      "Epoch 46/50\n",
      "\u001b[1m115/115\u001b[0m \u001b[32m━━━━━━━━━━━━━━━━━━━━\u001b[0m\u001b[37m\u001b[0m \u001b[1m0s\u001b[0m 2ms/step - accuracy: 0.9721 - loss: 0.0706 - val_accuracy: 0.9750 - val_loss: 0.0443\n",
      "Epoch 47/50\n",
      "\u001b[1m115/115\u001b[0m \u001b[32m━━━━━━━━━━━━━━━━━━━━\u001b[0m\u001b[37m\u001b[0m \u001b[1m0s\u001b[0m 2ms/step - accuracy: 0.9762 - loss: 0.0619 - val_accuracy: 0.9800 - val_loss: 0.0495\n",
      "Epoch 48/50\n",
      "\u001b[1m115/115\u001b[0m \u001b[32m━━━━━━━━━━━━━━━━━━━━\u001b[0m\u001b[37m\u001b[0m \u001b[1m0s\u001b[0m 2ms/step - accuracy: 0.9701 - loss: 0.0690 - val_accuracy: 0.9775 - val_loss: 0.0627\n",
      "Epoch 49/50\n",
      "\u001b[1m115/115\u001b[0m \u001b[32m━━━━━━━━━━━━━━━━━━━━\u001b[0m\u001b[37m\u001b[0m \u001b[1m0s\u001b[0m 2ms/step - accuracy: 0.9779 - loss: 0.0666 - val_accuracy: 0.9850 - val_loss: 0.0460\n",
      "Epoch 50/50\n",
      "\u001b[1m115/115\u001b[0m \u001b[32m━━━━━━━━━━━━━━━━━━━━\u001b[0m\u001b[37m\u001b[0m \u001b[1m0s\u001b[0m 2ms/step - accuracy: 0.9662 - loss: 0.0837 - val_accuracy: 0.9750 - val_loss: 0.0572\n"
     ]
    },
    {
     "name": "stderr",
     "output_type": "stream",
     "text": [
      "WARNING:absl:You are saving your model as an HDF5 file via `model.save()` or `keras.saving.save_model(model)`. This file format is considered legacy. We recommend using instead the native Keras format, e.g. `model.save('my_model.keras')` or `keras.saving.save_model(model, 'my_model.keras')`. \n"
     ]
    },
    {
     "name": "stdout",
     "output_type": "stream",
     "text": [
      "✅ Churn Model saved successfully!\n"
     ]
    }
   ],
   "source": [
    "from tensorflow.keras.layers import LeakyReLU\n",
    "\n",
    "# Build ANN Model for Multiclass Churn Prediction\n",
    "churn_model = keras.Sequential([\n",
    "    keras.layers.Dense(64, activation=LeakyReLU(alpha=0.01), input_shape=(X_train.shape[1],)),\n",
    "    keras.layers.Dropout(0.4),\n",
    "    keras.layers.Dense(32, activation=LeakyReLU(alpha=0.01)),\n",
    "    keras.layers.Dense(16, activation=LeakyReLU(alpha=0.01)),\n",
    "    keras.layers.Dense(5, activation='softmax')  # 5 classes (0-4)\n",
    "])\n",
    "\n",
    "churn_model.compile(optimizer='adam', loss='sparse_categorical_crossentropy', metrics=['accuracy'])\n",
    "\n",
    "# Train the Model\n",
    "history = churn_model.fit(X_train_resampled, y_train_resampled, epochs=50, batch_size=32, validation_data=(X_test, y_test))\n",
    "\n",
    "# Save Model\n",
    "churn_model.save(\"churn_model_multiclass.h5\")\n",
    "print(\"✅ Churn Model saved successfully!\")"
   ]
  },
  {
   "cell_type": "code",
   "execution_count": 13,
   "metadata": {},
   "outputs": [
    {
     "name": "stderr",
     "output_type": "stream",
     "text": [
      "WARNING:absl:Compiled the loaded model, but the compiled metrics have yet to be built. `model.compile_metrics` will be empty until you train or evaluate the model.\n"
     ]
    },
    {
     "name": "stdout",
     "output_type": "stream",
     "text": [
      "✅ Model loaded and compiled successfully!\n",
      "\u001b[1m13/13\u001b[0m \u001b[32m━━━━━━━━━━━━━━━━━━━━\u001b[0m\u001b[37m\u001b[0m \u001b[1m0s\u001b[0m 5ms/step \n",
      "✅ Churn Prediction Accuracy: 0.97\n",
      "✅ Precision: 0.96\n",
      "✅ Recall: 0.96\n",
      "✅ F1-Score: 0.96\n",
      "\n",
      "Classification Report:\n",
      "               precision    recall  f1-score   support\n",
      "\n",
      "           0       1.00      0.95      0.97        77\n",
      "           1       0.91      0.89      0.90        45\n",
      "           2       0.91      0.98      0.94        51\n",
      "           3       0.98      1.00      0.99        45\n",
      "           4       1.00      1.00      1.00       182\n",
      "\n",
      "    accuracy                           0.97       400\n",
      "   macro avg       0.96      0.96      0.96       400\n",
      "weighted avg       0.98      0.97      0.98       400\n",
      "\n"
     ]
    }
   ],
   "source": [
    "# Load Model\n",
    "# Load the trained model with custom objects\n",
    "churn_model = load_model(\"churn_model_multiclass.h5\", custom_objects={\"LeakyReLU\": LeakyReLU})\n",
    "\n",
    "# Recompile the model (recommended after loading)\n",
    "churn_model.compile(optimizer='adam', loss='sparse_categorical_crossentropy', metrics=['accuracy'])\n",
    "\n",
    "print(\"✅ Model loaded and compiled successfully!\")\n",
    "\n",
    "# Predict Probabilities & Convert to Classes\n",
    "y_pred_prob = churn_model.predict(X_test)\n",
    "y_pred = np.argmax(y_pred_prob, axis=1)  # Get highest probability class\n",
    "\n",
    "# Compute Evaluation Metrics\n",
    "accuracy = accuracy_score(y_test, y_pred)\n",
    "precision = precision_score(y_test, y_pred, average='macro')\n",
    "recall = recall_score(y_test, y_pred, average='macro')\n",
    "f1 = f1_score(y_test, y_pred, average='macro')\n",
    "\n",
    "print(f\"✅ Churn Prediction Accuracy: {accuracy:.2f}\")\n",
    "print(f\"✅ Precision: {precision:.2f}\")\n",
    "print(f\"✅ Recall: {recall:.2f}\")\n",
    "print(f\"✅ F1-Score: {f1:.2f}\")\n",
    "\n",
    "# Classification Report\n",
    "print(\"\\nClassification Report:\\n\", classification_report(y_test, y_pred))\n"
   ]
  },
  {
   "cell_type": "code",
   "execution_count": 14,
   "metadata": {},
   "outputs": [
    {
     "data": {
      "image/png": "[encoded data removed]",
      "text/plain": [
       "<Figure size 600x500 with 2 Axes>"
      ]
     },
     "metadata": {},
     "output_type": "display_data"
    }
   ],
   "source": [
    "# Confusion Matrix\n",
    "conf_matrix = confusion_matrix(y_test, y_pred)\n",
    "plt.figure(figsize=(6, 5))\n",
    "sns.heatmap(conf_matrix, annot=True, fmt='d', cmap='Blues', xticklabels=churn_labels, yticklabels=churn_labels)\n",
    "plt.xlabel('Predicted')\n",
    "plt.ylabel('Actual')\n",
    "plt.title('Confusion Matrix - Multiclass Churn Prediction')\n",
    "plt.show()\n"
   ]
  },
  {
   "cell_type": "code",
   "execution_count": 15,
   "metadata": {},
   "outputs": [
    {
     "name": "stdout",
     "output_type": "stream",
     "text": [
      "\u001b[1m1/1\u001b[0m \u001b[32m━━━━━━━━━━━━━━━━━━━━\u001b[0m\u001b[37m\u001b[0m \u001b[1m0s\u001b[0m 33ms/step\n",
      "Predicted Churn Category: 0\n"
     ]
    }
   ],
   "source": [
    "# Load the scaler\n",
    "scaler = joblib.load(\"churn_scaler.pkl\")\n",
    "\n",
    "# Define feature columns (same as used during training)\n",
    "feature_columns = ['total_orders', 'total_spent', 'avg_order_value', 'days_since_last_order']\n",
    "\n",
    "# Example input (adjust values as needed)\n",
    "new_customer_data = np.array([[5, 200.0, 40.0, 120]])\n",
    "\n",
    "# Convert NumPy array to DataFrame with correct column names\n",
    "new_customer_df = pd.DataFrame(new_customer_data, columns=feature_columns)\n",
    "\n",
    "# Apply scaling\n",
    "new_customer_scaled = scaler.transform(new_customer_df)\n",
    "\n",
    "# Predict Churn Category\n",
    "churn_probabilities = churn_model.predict(new_customer_scaled)\n",
    "churn_prediction = np.argmax(churn_probabilities, axis=1)[0]\n",
    "\n",
    "print(f\"Predicted Churn Category: {churn_prediction}\")"
   ]
  },
  {
   "cell_type": "code",
   "execution_count": 16,
   "metadata": {},
   "outputs": [
    {
     "name": "stdout",
     "output_type": "stream",
     "text": [
      "Unique values in y_pred: [0 1 2 3 4]\n"
     ]
    }
   ],
   "source": [
    "print(\"Unique values in y_pred:\", np.unique(y_pred))\n"
   ]
  },
  {
   "cell_type": "markdown",
   "metadata": {},
   "source": [
    "# Demand Forecasting Model"
   ]
  },
  {
   "cell_type": "code",
   "execution_count": 17,
   "metadata": {},
   "outputs": [
    {
     "name": "stdout",
     "output_type": "stream",
     "text": [
      "Columns in df: Index(['book_id', 'title', 'isbn13', 'language_id', 'num_pages',\n",
      "       'publication_date', 'publisher_id', 'order_month', 'order_count'],\n",
      "      dtype='object')\n"
     ]
    }
   ],
   "source": [
    "# ========== Demand Forecasting Model ==========\n",
    "df = pd.read_csv(\"preprocessed_book_data.csv\")\n",
    "# Ensure order_count exists before grouping\n",
    "df[\"publication_date\"] = pd.to_datetime(df[\"publication_date\"], errors='coerce')\n",
    "df[\"order_month\"] = df[\"publication_date\"].dt.to_period(\"M\")\n",
    "\n",
    "# Aggregate order count per book\n",
    "order_counts = order_line_df.groupby(\"book_id\").size().reset_index(name=\"order_count\")\n",
    "\n",
    "# Merge back into the main dataframe\n",
    "df = df.merge(order_counts, on=\"book_id\", how=\"left\").fillna({'order_count': 0})\n",
    "\n",
    "# Check if 'order_count' exists\n",
    "print(\"Columns in df:\", df.columns)  # Debugging Step\n",
    "\n",
    "# Now proceed with grouping\n",
    "monthly_demand = df.groupby(\"order_month\")[\"order_count\"].sum().reset_index()\n",
    "monthly_demand[\"order_month\"] = pd.to_datetime(monthly_demand[\"order_month\"].astype(str))"
   ]
  },
  {
   "cell_type": "code",
   "execution_count": 18,
   "metadata": {},
   "outputs": [
    {
     "data": {
      "text/html": [
       "<div>\n",
       "<style scoped>\n",
       "    .dataframe tbody tr th:only-of-type {\n",
       "        vertical-align: middle;\n",
       "    }\n",
       "\n",
       "    .dataframe tbody tr th {\n",
       "        vertical-align: top;\n",
       "    }\n",
       "\n",
       "    .dataframe thead th {\n",
       "        text-align: right;\n",
       "    }\n",
       "</style>\n",
       "<table border=\"1\" class=\"dataframe\">\n",
       "  <thead>\n",
       "    <tr style=\"text-align: right;\">\n",
       "      <th></th>\n",
       "      <th>book_id</th>\n",
       "      <th>title</th>\n",
       "      <th>isbn13</th>\n",
       "      <th>language_id</th>\n",
       "      <th>num_pages</th>\n",
       "      <th>publication_date</th>\n",
       "      <th>publisher_id</th>\n",
       "      <th>order_month</th>\n",
       "      <th>order_count</th>\n",
       "    </tr>\n",
       "  </thead>\n",
       "  <tbody>\n",
       "    <tr>\n",
       "      <th>0</th>\n",
       "      <td>1</td>\n",
       "      <td>The World's First Love: Mary  Mother of God</td>\n",
       "      <td>8987059752</td>\n",
       "      <td>2</td>\n",
       "      <td>276</td>\n",
       "      <td>1996-09-01</td>\n",
       "      <td>1010</td>\n",
       "      <td>1996-09</td>\n",
       "      <td>6.0</td>\n",
       "    </tr>\n",
       "    <tr>\n",
       "      <th>1</th>\n",
       "      <td>2</td>\n",
       "      <td>The Illuminati</td>\n",
       "      <td>20049130001</td>\n",
       "      <td>1</td>\n",
       "      <td>352</td>\n",
       "      <td>2004-10-04</td>\n",
       "      <td>1967</td>\n",
       "      <td>2004-10</td>\n",
       "      <td>3.0</td>\n",
       "    </tr>\n",
       "    <tr>\n",
       "      <th>2</th>\n",
       "      <td>3</td>\n",
       "      <td>The Servant Leader</td>\n",
       "      <td>23755004321</td>\n",
       "      <td>1</td>\n",
       "      <td>128</td>\n",
       "      <td>2003-03-11</td>\n",
       "      <td>1967</td>\n",
       "      <td>2003-03</td>\n",
       "      <td>3.0</td>\n",
       "    </tr>\n",
       "    <tr>\n",
       "      <th>3</th>\n",
       "      <td>4</td>\n",
       "      <td>What Life Was Like in the Jewel in the Crown: ...</td>\n",
       "      <td>34406054602</td>\n",
       "      <td>1</td>\n",
       "      <td>168</td>\n",
       "      <td>1999-09-01</td>\n",
       "      <td>1978</td>\n",
       "      <td>1999-09</td>\n",
       "      <td>5.0</td>\n",
       "    </tr>\n",
       "    <tr>\n",
       "      <th>4</th>\n",
       "      <td>5</td>\n",
       "      <td>Cliffs Notes on Aristophanes' Lysistrata  The ...</td>\n",
       "      <td>49086007763</td>\n",
       "      <td>1</td>\n",
       "      <td>80</td>\n",
       "      <td>1983-12-29</td>\n",
       "      <td>416</td>\n",
       "      <td>1983-12</td>\n",
       "      <td>2.0</td>\n",
       "    </tr>\n",
       "  </tbody>\n",
       "</table>\n",
       "</div>"
      ],
      "text/plain": [
       "   book_id                                              title       isbn13  \\\n",
       "0        1        The World's First Love: Mary  Mother of God   8987059752   \n",
       "1        2                                     The Illuminati  20049130001   \n",
       "2        3                                 The Servant Leader  23755004321   \n",
       "3        4  What Life Was Like in the Jewel in the Crown: ...  34406054602   \n",
       "4        5  Cliffs Notes on Aristophanes' Lysistrata  The ...  49086007763   \n",
       "\n",
       "   language_id  num_pages publication_date  publisher_id order_month  \\\n",
       "0            2        276       1996-09-01          1010     1996-09   \n",
       "1            1        352       2004-10-04          1967     2004-10   \n",
       "2            1        128       2003-03-11          1967     2003-03   \n",
       "3            1        168       1999-09-01          1978     1999-09   \n",
       "4            1         80       1983-12-29           416     1983-12   \n",
       "\n",
       "   order_count  \n",
       "0          6.0  \n",
       "1          3.0  \n",
       "2          3.0  \n",
       "3          5.0  \n",
       "4          2.0  "
      ]
     },
     "execution_count": 18,
     "metadata": {},
     "output_type": "execute_result"
    }
   ],
   "source": [
    "df.head()"
   ]
  },
  {
   "cell_type": "code",
   "execution_count": 36,
   "metadata": {},
   "outputs": [],
   "source": [
    "# Feature Engineering\n",
    "for lag in range(1, 4):\n",
    "    monthly_demand[f\"lag_{lag}\"] = monthly_demand[\"order_count\"].shift(lag)\n",
    "monthly_demand[\"moving_avg_3\"] = monthly_demand[\"order_count\"].rolling(window=3).mean()\n",
    "monthly_demand.dropna(inplace=True)"
   ]
  },
  {
   "cell_type": "code",
   "execution_count": 20,
   "metadata": {},
   "outputs": [],
   "source": [
    "# Train-Test Split\n",
    "test_size = 6\n",
    "train = monthly_demand[:-test_size]\n",
    "test = monthly_demand[-test_size:]"
   ]
  },
  {
   "cell_type": "code",
   "execution_count": 37,
   "metadata": {},
   "outputs": [],
   "source": [
    "# Normalize Data\n",
    "scaler = MinMaxScaler()\n",
    "X_train = scaler.fit_transform(train.drop(columns=[\"order_month\", \"order_count\"]))\n",
    "y_train = train[\"order_count\"].values.reshape(-1, 1)\n",
    "X_test = scaler.transform(test.drop(columns=[\"order_month\", \"order_count\"]))\n",
    "y_test = test[\"order_count\"].values.reshape(-1, 1)"
   ]
  },
  {
   "cell_type": "code",
   "execution_count": 22,
   "metadata": {},
   "outputs": [
    {
     "name": "stdout",
     "output_type": "stream",
     "text": [
      "Epoch 1/50\n"
     ]
    },
    {
     "name": "stderr",
     "output_type": "stream",
     "text": [
      "c:\\Users\\abdul\\AppData\\Local\\Programs\\Python\\Python311\\Lib\\site-packages\\keras\\src\\layers\\core\\dense.py:87: UserWarning: Do not pass an `input_shape`/`input_dim` argument to a layer. When using Sequential models, prefer using an `Input(shape)` object as the first layer in the model instead.\n",
      "  super().__init__(activity_regularizer=activity_regularizer, **kwargs)\n"
     ]
    },
    {
     "name": "stdout",
     "output_type": "stream",
     "text": [
      "\u001b[1m76/76\u001b[0m \u001b[32m━━━━━━━━━━━━━━━━━━━━\u001b[0m\u001b[37m\u001b[0m \u001b[1m1s\u001b[0m 3ms/step - loss: 2847.2427 - mae: 26.8986 - val_loss: 8.4864 - val_mae: 2.2909\n",
      "Epoch 2/50\n",
      "\u001b[1m76/76\u001b[0m \u001b[32m━━━━━━━━━━━━━━━━━━━━\u001b[0m\u001b[37m\u001b[0m \u001b[1m0s\u001b[0m 2ms/step - loss: 2410.4734 - mae: 23.2807 - val_loss: 15.7675 - val_mae: 3.5145\n",
      "Epoch 3/50\n",
      "\u001b[1m76/76\u001b[0m \u001b[32m━━━━━━━━━━━━━━━━━━━━\u001b[0m\u001b[37m\u001b[0m \u001b[1m0s\u001b[0m 2ms/step - loss: 2066.6372 - mae: 22.8124 - val_loss: 188.0396 - val_mae: 13.5319\n",
      "Epoch 4/50\n",
      "\u001b[1m76/76\u001b[0m \u001b[32m━━━━━━━━━━━━━━━━━━━━\u001b[0m\u001b[37m\u001b[0m \u001b[1m0s\u001b[0m 2ms/step - loss: 1819.3733 - mae: 26.3340 - val_loss: 364.9154 - val_mae: 18.9743\n",
      "Epoch 5/50\n",
      "\u001b[1m76/76\u001b[0m \u001b[32m━━━━━━━━━━━━━━━━━━━━\u001b[0m\u001b[37m\u001b[0m \u001b[1m0s\u001b[0m 2ms/step - loss: 1133.1172 - mae: 23.5588 - val_loss: 423.7170 - val_mae: 20.4661\n",
      "Epoch 6/50\n",
      "\u001b[1m76/76\u001b[0m \u001b[32m━━━━━━━━━━━━━━━━━━━━\u001b[0m\u001b[37m\u001b[0m \u001b[1m0s\u001b[0m 2ms/step - loss: 841.7060 - mae: 21.8738 - val_loss: 370.3115 - val_mae: 19.1175\n",
      "Epoch 7/50\n",
      "\u001b[1m76/76\u001b[0m \u001b[32m━━━━━━━━━━━━━━━━━━━━\u001b[0m\u001b[37m\u001b[0m \u001b[1m0s\u001b[0m 2ms/step - loss: 692.8866 - mae: 19.4783 - val_loss: 277.7487 - val_mae: 16.5197\n",
      "Epoch 8/50\n",
      "\u001b[1m76/76\u001b[0m \u001b[32m━━━━━━━━━━━━━━━━━━━━\u001b[0m\u001b[37m\u001b[0m \u001b[1m0s\u001b[0m 3ms/step - loss: 797.8797 - mae: 19.1151 - val_loss: 160.6325 - val_mae: 12.4816\n",
      "Epoch 9/50\n",
      "\u001b[1m76/76\u001b[0m \u001b[32m━━━━━━━━━━━━━━━━━━━━\u001b[0m\u001b[37m\u001b[0m \u001b[1m0s\u001b[0m 3ms/step - loss: 452.3775 - mae: 14.9512 - val_loss: 90.4202 - val_mae: 9.2512\n",
      "Epoch 10/50\n",
      "\u001b[1m76/76\u001b[0m \u001b[32m━━━━━━━━━━━━━━━━━━━━\u001b[0m\u001b[37m\u001b[0m \u001b[1m0s\u001b[0m 2ms/step - loss: 398.8576 - mae: 13.3196 - val_loss: 49.1345 - val_mae: 6.6548\n",
      "Epoch 11/50\n",
      "\u001b[1m76/76\u001b[0m \u001b[32m━━━━━━━━━━━━━━━━━━━━\u001b[0m\u001b[37m\u001b[0m \u001b[1m0s\u001b[0m 4ms/step - loss: 533.1412 - mae: 12.4370 - val_loss: 21.2532 - val_mae: 4.0517\n",
      "Epoch 12/50\n",
      "\u001b[1m76/76\u001b[0m \u001b[32m━━━━━━━━━━━━━━━━━━━━\u001b[0m\u001b[37m\u001b[0m \u001b[1m0s\u001b[0m 2ms/step - loss: 306.0933 - mae: 10.0554 - val_loss: 9.2616 - val_mae: 2.6311\n",
      "Epoch 13/50\n",
      "\u001b[1m76/76\u001b[0m \u001b[32m━━━━━━━━━━━━━━━━━━━━\u001b[0m\u001b[37m\u001b[0m \u001b[1m0s\u001b[0m 3ms/step - loss: 265.6917 - mae: 8.9265 - val_loss: 8.9056 - val_mae: 2.5692\n",
      "Epoch 14/50\n",
      "\u001b[1m76/76\u001b[0m \u001b[32m━━━━━━━━━━━━━━━━━━━━\u001b[0m\u001b[37m\u001b[0m \u001b[1m0s\u001b[0m 3ms/step - loss: 325.4384 - mae: 9.7972 - val_loss: 6.0784 - val_mae: 2.0699\n",
      "Epoch 15/50\n",
      "\u001b[1m76/76\u001b[0m \u001b[32m━━━━━━━━━━━━━━━━━━━━\u001b[0m\u001b[37m\u001b[0m \u001b[1m0s\u001b[0m 3ms/step - loss: 405.9088 - mae: 9.6862 - val_loss: 5.7845 - val_mae: 2.0277\n",
      "Epoch 16/50\n",
      "\u001b[1m76/76\u001b[0m \u001b[32m━━━━━━━━━━━━━━━━━━━━\u001b[0m\u001b[37m\u001b[0m \u001b[1m0s\u001b[0m 4ms/step - loss: 439.6076 - mae: 9.0909 - val_loss: 5.0374 - val_mae: 1.9258\n",
      "Epoch 17/50\n",
      "\u001b[1m76/76\u001b[0m \u001b[32m━━━━━━━━━━━━━━━━━━━━\u001b[0m\u001b[37m\u001b[0m \u001b[1m0s\u001b[0m 3ms/step - loss: 241.4492 - mae: 8.1735 - val_loss: 6.7287 - val_mae: 2.1777\n",
      "Epoch 18/50\n",
      "\u001b[1m76/76\u001b[0m \u001b[32m━━━━━━━━━━━━━━━━━━━━\u001b[0m\u001b[37m\u001b[0m \u001b[1m0s\u001b[0m 3ms/step - loss: 312.5426 - mae: 9.0466 - val_loss: 4.9106 - val_mae: 1.9274\n",
      "Epoch 19/50\n",
      "\u001b[1m76/76\u001b[0m \u001b[32m━━━━━━━━━━━━━━━━━━━━\u001b[0m\u001b[37m\u001b[0m \u001b[1m0s\u001b[0m 3ms/step - loss: 222.5821 - mae: 8.0282 - val_loss: 5.2813 - val_mae: 1.9654\n",
      "Epoch 20/50\n",
      "\u001b[1m76/76\u001b[0m \u001b[32m━━━━━━━━━━━━━━━━━━━━\u001b[0m\u001b[37m\u001b[0m \u001b[1m0s\u001b[0m 4ms/step - loss: 324.3096 - mae: 8.9366 - val_loss: 5.4417 - val_mae: 1.9855\n",
      "Epoch 21/50\n",
      "\u001b[1m76/76\u001b[0m \u001b[32m━━━━━━━━━━━━━━━━━━━━\u001b[0m\u001b[37m\u001b[0m \u001b[1m0s\u001b[0m 4ms/step - loss: 319.5427 - mae: 8.8347 - val_loss: 4.9444 - val_mae: 1.9089\n",
      "Epoch 22/50\n",
      "\u001b[1m76/76\u001b[0m \u001b[32m━━━━━━━━━━━━━━━━━━━━\u001b[0m\u001b[37m\u001b[0m \u001b[1m0s\u001b[0m 3ms/step - loss: 241.3514 - mae: 7.8160 - val_loss: 7.2888 - val_mae: 2.2562\n",
      "Epoch 23/50\n",
      "\u001b[1m76/76\u001b[0m \u001b[32m━━━━━━━━━━━━━━━━━━━━\u001b[0m\u001b[37m\u001b[0m \u001b[1m0s\u001b[0m 2ms/step - loss: 277.6164 - mae: 8.8492 - val_loss: 5.0143 - val_mae: 1.8939\n",
      "Epoch 24/50\n",
      "\u001b[1m76/76\u001b[0m \u001b[32m━━━━━━━━━━━━━━━━━━━━\u001b[0m\u001b[37m\u001b[0m \u001b[1m0s\u001b[0m 2ms/step - loss: 341.5699 - mae: 8.3331 - val_loss: 4.9033 - val_mae: 1.9145\n",
      "Epoch 25/50\n",
      "\u001b[1m76/76\u001b[0m \u001b[32m━━━━━━━━━━━━━━━━━━━━\u001b[0m\u001b[37m\u001b[0m \u001b[1m0s\u001b[0m 2ms/step - loss: 282.3032 - mae: 8.5844 - val_loss: 5.3384 - val_mae: 1.9840\n",
      "Epoch 26/50\n",
      "\u001b[1m76/76\u001b[0m \u001b[32m━━━━━━━━━━━━━━━━━━━━\u001b[0m\u001b[37m\u001b[0m \u001b[1m0s\u001b[0m 4ms/step - loss: 276.4084 - mae: 8.2671 - val_loss: 9.6864 - val_mae: 2.6646\n",
      "Epoch 27/50\n",
      "\u001b[1m76/76\u001b[0m \u001b[32m━━━━━━━━━━━━━━━━━━━━\u001b[0m\u001b[37m\u001b[0m \u001b[1m0s\u001b[0m 2ms/step - loss: 289.1538 - mae: 8.9888 - val_loss: 4.8988 - val_mae: 1.9160\n",
      "Epoch 28/50\n",
      "\u001b[1m76/76\u001b[0m \u001b[32m━━━━━━━━━━━━━━━━━━━━\u001b[0m\u001b[37m\u001b[0m \u001b[1m0s\u001b[0m 2ms/step - loss: 360.9262 - mae: 9.4392 - val_loss: 5.4298 - val_mae: 1.9792\n",
      "Epoch 29/50\n",
      "\u001b[1m76/76\u001b[0m \u001b[32m━━━━━━━━━━━━━━━━━━━━\u001b[0m\u001b[37m\u001b[0m \u001b[1m0s\u001b[0m 2ms/step - loss: 230.4506 - mae: 7.7448 - val_loss: 5.0363 - val_mae: 1.9532\n",
      "Epoch 30/50\n",
      "\u001b[1m76/76\u001b[0m \u001b[32m━━━━━━━━━━━━━━━━━━━━\u001b[0m\u001b[37m\u001b[0m \u001b[1m0s\u001b[0m 3ms/step - loss: 259.0056 - mae: 8.3448 - val_loss: 5.8575 - val_mae: 2.0774\n",
      "Epoch 31/50\n",
      "\u001b[1m76/76\u001b[0m \u001b[32m━━━━━━━━━━━━━━━━━━━━\u001b[0m\u001b[37m\u001b[0m \u001b[1m0s\u001b[0m 3ms/step - loss: 255.6642 - mae: 8.3751 - val_loss: 5.1797 - val_mae: 1.9743\n",
      "Epoch 32/50\n",
      "\u001b[1m76/76\u001b[0m \u001b[32m━━━━━━━━━━━━━━━━━━━━\u001b[0m\u001b[37m\u001b[0m \u001b[1m0s\u001b[0m 2ms/step - loss: 299.7208 - mae: 8.6902 - val_loss: 5.1052 - val_mae: 1.8996\n",
      "Epoch 33/50\n",
      "\u001b[1m76/76\u001b[0m \u001b[32m━━━━━━━━━━━━━━━━━━━━\u001b[0m\u001b[37m\u001b[0m \u001b[1m0s\u001b[0m 4ms/step - loss: 393.4613 - mae: 9.1066 - val_loss: 4.9540 - val_mae: 1.9166\n",
      "Epoch 34/50\n",
      "\u001b[1m76/76\u001b[0m \u001b[32m━━━━━━━━━━━━━━━━━━━━\u001b[0m\u001b[37m\u001b[0m \u001b[1m0s\u001b[0m 4ms/step - loss: 248.9794 - mae: 8.4978 - val_loss: 5.1736 - val_mae: 1.9672\n",
      "Epoch 35/50\n",
      "\u001b[1m76/76\u001b[0m \u001b[32m━━━━━━━━━━━━━━━━━━━━\u001b[0m\u001b[37m\u001b[0m \u001b[1m0s\u001b[0m 4ms/step - loss: 258.1520 - mae: 8.2514 - val_loss: 5.1177 - val_mae: 1.9658\n",
      "Epoch 36/50\n",
      "\u001b[1m76/76\u001b[0m \u001b[32m━━━━━━━━━━━━━━━━━━━━\u001b[0m\u001b[37m\u001b[0m \u001b[1m0s\u001b[0m 5ms/step - loss: 251.8001 - mae: 8.3687 - val_loss: 5.1339 - val_mae: 1.9703\n",
      "Epoch 37/50\n",
      "\u001b[1m76/76\u001b[0m \u001b[32m━━━━━━━━━━━━━━━━━━━━\u001b[0m\u001b[37m\u001b[0m \u001b[1m0s\u001b[0m 4ms/step - loss: 307.9212 - mae: 9.1016 - val_loss: 5.1267 - val_mae: 1.9025\n",
      "Epoch 38/50\n",
      "\u001b[1m76/76\u001b[0m \u001b[32m━━━━━━━━━━━━━━━━━━━━\u001b[0m\u001b[37m\u001b[0m \u001b[1m0s\u001b[0m 4ms/step - loss: 286.0526 - mae: 8.4889 - val_loss: 5.1867 - val_mae: 1.8988\n",
      "Epoch 39/50\n",
      "\u001b[1m76/76\u001b[0m \u001b[32m━━━━━━━━━━━━━━━━━━━━\u001b[0m\u001b[37m\u001b[0m \u001b[1m0s\u001b[0m 3ms/step - loss: 444.0992 - mae: 9.7278 - val_loss: 5.3079 - val_mae: 1.9761\n",
      "Epoch 40/50\n",
      "\u001b[1m76/76\u001b[0m \u001b[32m━━━━━━━━━━━━━━━━━━━━\u001b[0m\u001b[37m\u001b[0m \u001b[1m0s\u001b[0m 3ms/step - loss: 261.4318 - mae: 8.3564 - val_loss: 6.0911 - val_mae: 2.1336\n",
      "Epoch 41/50\n",
      "\u001b[1m76/76\u001b[0m \u001b[32m━━━━━━━━━━━━━━━━━━━━\u001b[0m\u001b[37m\u001b[0m \u001b[1m0s\u001b[0m 5ms/step - loss: 339.7264 - mae: 8.9710 - val_loss: 5.0072 - val_mae: 1.9170\n",
      "Epoch 42/50\n",
      "\u001b[1m76/76\u001b[0m \u001b[32m━━━━━━━━━━━━━━━━━━━━\u001b[0m\u001b[37m\u001b[0m \u001b[1m0s\u001b[0m 4ms/step - loss: 214.3861 - mae: 7.4665 - val_loss: 5.5981 - val_mae: 2.0360\n",
      "Epoch 43/50\n",
      "\u001b[1m76/76\u001b[0m \u001b[32m━━━━━━━━━━━━━━━━━━━━\u001b[0m\u001b[37m\u001b[0m \u001b[1m0s\u001b[0m 3ms/step - loss: 250.1461 - mae: 8.2207 - val_loss: 4.9973 - val_mae: 1.9394\n",
      "Epoch 44/50\n",
      "\u001b[1m76/76\u001b[0m \u001b[32m━━━━━━━━━━━━━━━━━━━━\u001b[0m\u001b[37m\u001b[0m \u001b[1m0s\u001b[0m 2ms/step - loss: 238.9635 - mae: 8.1150 - val_loss: 5.6308 - val_mae: 2.0445\n",
      "Epoch 45/50\n",
      "\u001b[1m76/76\u001b[0m \u001b[32m━━━━━━━━━━━━━━━━━━━━\u001b[0m\u001b[37m\u001b[0m \u001b[1m0s\u001b[0m 2ms/step - loss: 265.6452 - mae: 8.2789 - val_loss: 6.2152 - val_mae: 2.1615\n",
      "Epoch 46/50\n",
      "\u001b[1m76/76\u001b[0m \u001b[32m━━━━━━━━━━━━━━━━━━━━\u001b[0m\u001b[37m\u001b[0m \u001b[1m0s\u001b[0m 2ms/step - loss: 250.9324 - mae: 8.5388 - val_loss: 5.2680 - val_mae: 1.8899\n",
      "Epoch 47/50\n",
      "\u001b[1m76/76\u001b[0m \u001b[32m━━━━━━━━━━━━━━━━━━━━\u001b[0m\u001b[37m\u001b[0m \u001b[1m0s\u001b[0m 3ms/step - loss: 249.5180 - mae: 8.2581 - val_loss: 5.0263 - val_mae: 1.9462\n",
      "Epoch 48/50\n",
      "\u001b[1m76/76\u001b[0m \u001b[32m━━━━━━━━━━━━━━━━━━━━\u001b[0m\u001b[37m\u001b[0m \u001b[1m0s\u001b[0m 4ms/step - loss: 254.1056 - mae: 8.1122 - val_loss: 5.0349 - val_mae: 1.9412\n",
      "Epoch 49/50\n",
      "\u001b[1m76/76\u001b[0m \u001b[32m━━━━━━━━━━━━━━━━━━━━\u001b[0m\u001b[37m\u001b[0m \u001b[1m0s\u001b[0m 4ms/step - loss: 191.3389 - mae: 7.6877 - val_loss: 5.0052 - val_mae: 1.9367\n",
      "Epoch 50/50\n",
      "\u001b[1m76/76\u001b[0m \u001b[32m━━━━━━━━━━━━━━━━━━━━\u001b[0m\u001b[37m\u001b[0m \u001b[1m0s\u001b[0m 2ms/step - loss: 304.0621 - mae: 8.6636 - val_loss: 5.0920 - val_mae: 1.9542\n"
     ]
    },
    {
     "name": "stderr",
     "output_type": "stream",
     "text": [
      "WARNING:absl:You are saving your model as an HDF5 file via `model.save()` or `keras.saving.save_model(model)`. This file format is considered legacy. We recommend using instead the native Keras format, e.g. `model.save('my_model.keras')` or `keras.saving.save_model(model, 'my_model.keras')`. \n"
     ]
    }
   ],
   "source": [
    "# Build ANN Model for Demand Forecasting\n",
    "dfm_model = keras.Sequential([\n",
    "    keras.layers.Dense(64, activation='relu', input_shape=(X_train.shape[1],)),\n",
    "    keras.layers.Dense(32, activation='relu'),\n",
    "    keras.layers.Dense(1)\n",
    "])\n",
    "\n",
    "dfm_model.compile(optimizer='adam', loss='mse', metrics=['mae'])\n",
    "dfm_model.fit(X_train, y_train, epochs=50, batch_size=8, validation_data=(X_test, y_test))\n",
    "dfm_model.save(\"demand_forecasting_model.h5\")"
   ]
  },
  {
   "cell_type": "code",
   "execution_count": 23,
   "metadata": {},
   "outputs": [
    {
     "name": "stdout",
     "output_type": "stream",
     "text": [
      "\u001b[1m1/1\u001b[0m \u001b[32m━━━━━━━━━━━━━━━━━━━━\u001b[0m\u001b[37m\u001b[0m \u001b[1m0s\u001b[0m 62ms/step\n",
      "✅ MAE: 1.95, RMSE: 2.26\n"
     ]
    }
   ],
   "source": [
    "# Model Evaluation\n",
    "y_pred = dfm_model.predict(X_test)\n",
    "mae = mean_absolute_error(y_test, y_pred)\n",
    "rmse = np.sqrt(mean_squared_error(y_test, y_pred))\n",
    "print(f\"✅ MAE: {mae:.2f}, RMSE: {rmse:.2f}\")"
   ]
  },
  {
   "cell_type": "code",
   "execution_count": 24,
   "metadata": {},
   "outputs": [
    {
     "name": "stdout",
     "output_type": "stream",
     "text": [
      "\u001b[1m1/1\u001b[0m \u001b[32m━━━━━━━━━━━━━━━━━━━━\u001b[0m\u001b[37m\u001b[0m \u001b[1m0s\u001b[0m 60ms/step\n",
      "\u001b[1m1/1\u001b[0m \u001b[32m━━━━━━━━━━━━━━━━━━━━\u001b[0m\u001b[37m\u001b[0m \u001b[1m0s\u001b[0m 32ms/step\n",
      "\u001b[1m1/1\u001b[0m \u001b[32m━━━━━━━━━━━━━━━━━━━━\u001b[0m\u001b[37m\u001b[0m \u001b[1m0s\u001b[0m 34ms/step\n",
      "📊 Future Demand Predictions (Next 3 Months): [4.4277906, 464.85577, 48682.633]\n"
     ]
    }
   ],
   "source": [
    "# Forecast Next 3 Months\n",
    "future_X = np.array([X_test[-1]])\n",
    "future_predictions = []\n",
    "for _ in range(3):\n",
    "    pred = dfm_model.predict(future_X)[0][0]\n",
    "    future_predictions.append(pred)\n",
    "    future_X = np.roll(future_X, -1)\n",
    "    future_X[0, -1] = pred\n",
    "\n",
    "print(\"📊 Future Demand Predictions (Next 3 Months):\", future_predictions)"
   ]
  },
  {
   "cell_type": "code",
   "execution_count": 25,
   "metadata": {},
   "outputs": [
    {
     "data": {
      "image/png": "[encoded data removed]",
      "text/plain": [
       "<Figure size 800x500 with 1 Axes>"
      ]
     },
     "metadata": {},
     "output_type": "display_data"
    }
   ],
   "source": [
    "# Plot Actual vs Predicted Sales\n",
    "actual_sales = np.array([1000, 480, 48500])\n",
    "predicted_sales = np.array(future_predictions)\n",
    "plt.figure(figsize=(8, 5))\n",
    "plt.plot(range(1, 4), actual_sales, marker='o', linestyle='-', label='Actual Sales', color='blue')\n",
    "plt.plot(range(1, 4), predicted_sales, marker='s', linestyle='--', label='Predicted Sales', color='red')\n",
    "plt.xlabel(\"Month\")\n",
    "plt.ylabel(\"Sales\")\n",
    "plt.title(\"Actual vs. Predicted Sales (Next 3 Months)\")\n",
    "plt.legend()\n",
    "plt.grid(True)\n",
    "plt.show()"
   ]
  },
  {
   "cell_type": "markdown",
   "metadata": {},
   "source": [
    "# Genre Classification Model"
   ]
  },
  {
   "cell_type": "code",
   "execution_count": null,
   "metadata": {},
   "outputs": [],
   "source": [
    "# Ensure Required Columns Exist\n",
    "required_columns = ['num_pages', 'publisher_id', 'language_id', 'order_count']\n",
    "missing_columns = [col for col in required_columns if col not in df.columns]\n",
    "if missing_columns:\n",
    "    raise ValueError(f\"Dataset is missing required columns: {missing_columns}\")"
   ]
  },
  {
   "cell_type": "code",
   "execution_count": null,
   "metadata": {},
   "outputs": [
    {
     "data": {
      "text/plain": [
       "['genre_scaler.pkl']"
      ]
     },
     "execution_count": 94,
     "metadata": {},
     "output_type": "execute_result"
    }
   ],
   "source": [
    "# Standardize Features\n",
    "scaler = StandardScaler()\n",
    "df_scaled = scaler.fit_transform(df[required_columns])\n",
    "joblib.dump(scaler, \"genre_scaler.pkl\")"
   ]
  },
  {
   "cell_type": "code",
   "execution_count": null,
   "metadata": {},
   "outputs": [
    {
     "data": {
      "text/plain": [
       "['genre_clustering_model.pkl']"
      ]
     },
     "execution_count": 95,
     "metadata": {},
     "output_type": "execute_result"
    }
   ],
   "source": [
    "# Apply K-Means Clustering\n",
    "num_clusters = 5  # Adjust based on dataset size and variety\n",
    "kmeans = KMeans(n_clusters=num_clusters, random_state=42)\n",
    "df['genre_cluster'] = kmeans.fit_predict(df_scaled)\n",
    "joblib.dump(kmeans, \"genre_clustering_model.pkl\")"
   ]
  },
  {
   "cell_type": "code",
   "execution_count": null,
   "metadata": {},
   "outputs": [
    {
     "data": {
      "text/plain": [
       "['genre_label_encoder.pkl']"
      ]
     },
     "execution_count": 96,
     "metadata": {},
     "output_type": "execute_result"
    }
   ],
   "source": [
    "# Encode Cluster Labels as Genres\n",
    "df['genre'] = df['genre_cluster'].astype(str)\n",
    "label_encoder = LabelEncoder()\n",
    "df['genre_encoded'] = label_encoder.fit_transform(df['genre'])\n",
    "joblib.dump(label_encoder, \"genre_label_encoder.pkl\")"
   ]
  },
  {
   "cell_type": "code",
   "execution_count": null,
   "metadata": {},
   "outputs": [],
   "source": [
    "# Define Features & Target\n",
    "X = df[required_columns]\n",
    "y = df['genre_encoded']"
   ]
  },
  {
   "cell_type": "code",
   "execution_count": null,
   "metadata": {},
   "outputs": [],
   "source": [
    "# Train-Test Split\n",
    "X_train, X_test, y_train, y_test = train_test_split(X, y, test_size=0.2, random_state=42, stratify=y)"
   ]
  },
  {
   "cell_type": "code",
   "execution_count": null,
   "metadata": {},
   "outputs": [
    {
     "name": "stderr",
     "output_type": "stream",
     "text": [
      "c:\\Users\\abdul\\AppData\\Local\\Programs\\Python\\Python311\\Lib\\site-packages\\keras\\src\\layers\\core\\dense.py:87: UserWarning: Do not pass an `input_shape`/`input_dim` argument to a layer. When using Sequential models, prefer using an `Input(shape)` object as the first layer in the model instead.\n",
      "  super().__init__(activity_regularizer=activity_regularizer, **kwargs)\n"
     ]
    }
   ],
   "source": [
    "# Build ANN Model\n",
    "model = keras.Sequential([\n",
    "    keras.layers.Dense(64, activation='relu', input_shape=(X_train.shape[1],)),\n",
    "    keras.layers.Dense(32, activation='relu'),\n",
    "    keras.layers.Dense(num_clusters, activation='softmax')  # Multi-class classification\n",
    "])\n",
    "\n",
    "model.compile(optimizer='adam', loss='sparse_categorical_crossentropy', metrics=['accuracy'])"
   ]
  },
  {
   "cell_type": "code",
   "execution_count": null,
   "metadata": {},
   "outputs": [
    {
     "name": "stdout",
     "output_type": "stream",
     "text": [
      "Epoch 1/50\n",
      "\u001b[1m557/557\u001b[0m \u001b[32m━━━━━━━━━━━━━━━━━━━━\u001b[0m\u001b[37m\u001b[0m \u001b[1m3s\u001b[0m 3ms/step - accuracy: 0.5148 - loss: 6.0659 - val_accuracy: 0.3931 - val_loss: 1.5390\n",
      "Epoch 2/50\n",
      "\u001b[1m557/557\u001b[0m \u001b[32m━━━━━━━━━━━━━━━━━━━━\u001b[0m\u001b[37m\u001b[0m \u001b[1m1s\u001b[0m 1ms/step - accuracy: 0.6318 - loss: 1.3608 - val_accuracy: 0.7790 - val_loss: 0.6529\n",
      "Epoch 3/50\n",
      "\u001b[1m557/557\u001b[0m \u001b[32m━━━━━━━━━━━━━━━━━━━━\u001b[0m\u001b[37m\u001b[0m \u001b[1m1s\u001b[0m 2ms/step - accuracy: 0.7025 - loss: 1.0039 - val_accuracy: 0.7439 - val_loss: 0.8391\n",
      "Epoch 4/50\n",
      "\u001b[1m557/557\u001b[0m \u001b[32m━━━━━━━━━━━━━━━━━━━━\u001b[0m\u001b[37m\u001b[0m \u001b[1m1s\u001b[0m 2ms/step - accuracy: 0.7321 - loss: 0.9189 - val_accuracy: 0.7974 - val_loss: 0.5169\n",
      "Epoch 5/50\n",
      "\u001b[1m557/557\u001b[0m \u001b[32m━━━━━━━━━━━━━━━━━━━━\u001b[0m\u001b[37m\u001b[0m \u001b[1m1s\u001b[0m 2ms/step - accuracy: 0.7463 - loss: 0.8428 - val_accuracy: 0.7480 - val_loss: 1.0210\n",
      "Epoch 6/50\n",
      "\u001b[1m557/557\u001b[0m \u001b[32m━━━━━━━━━━━━━━━━━━━━\u001b[0m\u001b[37m\u001b[0m \u001b[1m1s\u001b[0m 2ms/step - accuracy: 0.7571 - loss: 0.9347 - val_accuracy: 0.7996 - val_loss: 0.6429\n",
      "Epoch 7/50\n",
      "\u001b[1m557/557\u001b[0m \u001b[32m━━━━━━━━━━━━━━━━━━━━\u001b[0m\u001b[37m\u001b[0m \u001b[1m1s\u001b[0m 1ms/step - accuracy: 0.7780 - loss: 0.8277 - val_accuracy: 0.7893 - val_loss: 0.6539\n",
      "Epoch 8/50\n",
      "\u001b[1m557/557\u001b[0m \u001b[32m━━━━━━━━━━━━━━━━━━━━\u001b[0m\u001b[37m\u001b[0m \u001b[1m1s\u001b[0m 2ms/step - accuracy: 0.8138 - loss: 0.6883 - val_accuracy: 0.7619 - val_loss: 1.3251\n",
      "Epoch 9/50\n",
      "\u001b[1m557/557\u001b[0m \u001b[32m━━━━━━━━━━━━━━━━━━━━\u001b[0m\u001b[37m\u001b[0m \u001b[1m1s\u001b[0m 2ms/step - accuracy: 0.8105 - loss: 0.6408 - val_accuracy: 0.8221 - val_loss: 0.6003\n",
      "Epoch 10/50\n",
      "\u001b[1m557/557\u001b[0m \u001b[32m━━━━━━━━━━━━━━━━━━━━\u001b[0m\u001b[37m\u001b[0m \u001b[1m1s\u001b[0m 2ms/step - accuracy: 0.8096 - loss: 0.7067 - val_accuracy: 0.8679 - val_loss: 0.3930\n",
      "Epoch 11/50\n",
      "\u001b[1m557/557\u001b[0m \u001b[32m━━━━━━━━━━━━━━━━━━━━\u001b[0m\u001b[37m\u001b[0m \u001b[1m1s\u001b[0m 2ms/step - accuracy: 0.8292 - loss: 0.5723 - val_accuracy: 0.7718 - val_loss: 0.9533\n",
      "Epoch 12/50\n",
      "\u001b[1m557/557\u001b[0m \u001b[32m━━━━━━━━━━━━━━━━━━━━\u001b[0m\u001b[37m\u001b[0m \u001b[1m1s\u001b[0m 2ms/step - accuracy: 0.8595 - loss: 0.4082 - val_accuracy: 0.9007 - val_loss: 0.2681\n",
      "Epoch 13/50\n",
      "\u001b[1m557/557\u001b[0m \u001b[32m━━━━━━━━━━━━━━━━━━━━\u001b[0m\u001b[37m\u001b[0m \u001b[1m1s\u001b[0m 1ms/step - accuracy: 0.8594 - loss: 0.4095 - val_accuracy: 0.8396 - val_loss: 0.5042\n",
      "Epoch 14/50\n",
      "\u001b[1m557/557\u001b[0m \u001b[32m━━━━━━━━━━━━━━━━━━━━\u001b[0m\u001b[37m\u001b[0m \u001b[1m1s\u001b[0m 2ms/step - accuracy: 0.8822 - loss: 0.3364 - val_accuracy: 0.7880 - val_loss: 0.5056\n",
      "Epoch 15/50\n",
      "\u001b[1m557/557\u001b[0m \u001b[32m━━━━━━━━━━━━━━━━━━━━\u001b[0m\u001b[37m\u001b[0m \u001b[1m1s\u001b[0m 2ms/step - accuracy: 0.8717 - loss: 0.3557 - val_accuracy: 0.8428 - val_loss: 0.3770\n",
      "Epoch 16/50\n",
      "\u001b[1m557/557\u001b[0m \u001b[32m━━━━━━━━━━━━━━━━━━━━\u001b[0m\u001b[37m\u001b[0m \u001b[1m1s\u001b[0m 2ms/step - accuracy: 0.8929 - loss: 0.3083 - val_accuracy: 0.9299 - val_loss: 0.1879\n",
      "Epoch 17/50\n",
      "\u001b[1m557/557\u001b[0m \u001b[32m━━━━━━━━━━━━━━━━━━━━\u001b[0m\u001b[37m\u001b[0m \u001b[1m2s\u001b[0m 3ms/step - accuracy: 0.8912 - loss: 0.3041 - val_accuracy: 0.8967 - val_loss: 0.2933\n",
      "Epoch 18/50\n",
      "\u001b[1m557/557\u001b[0m \u001b[32m━━━━━━━━━━━━━━━━━━━━\u001b[0m\u001b[37m\u001b[0m \u001b[1m1s\u001b[0m 2ms/step - accuracy: 0.8740 - loss: 0.4010 - val_accuracy: 0.9097 - val_loss: 0.2152\n",
      "Epoch 19/50\n",
      "\u001b[1m557/557\u001b[0m \u001b[32m━━━━━━━━━━━━━━━━━━━━\u001b[0m\u001b[37m\u001b[0m \u001b[1m2s\u001b[0m 3ms/step - accuracy: 0.9053 - loss: 0.2700 - val_accuracy: 0.8630 - val_loss: 0.3691\n",
      "Epoch 20/50\n",
      "\u001b[1m557/557\u001b[0m \u001b[32m━━━━━━━━━━━━━━━━━━━━\u001b[0m\u001b[37m\u001b[0m \u001b[1m2s\u001b[0m 3ms/step - accuracy: 0.8814 - loss: 0.3349 - val_accuracy: 0.8513 - val_loss: 0.4802\n",
      "Epoch 21/50\n",
      "\u001b[1m557/557\u001b[0m \u001b[32m━━━━━━━━━━━━━━━━━━━━\u001b[0m\u001b[37m\u001b[0m \u001b[1m2s\u001b[0m 3ms/step - accuracy: 0.9170 - loss: 0.2324 - val_accuracy: 0.9272 - val_loss: 0.1827\n",
      "Epoch 22/50\n",
      "\u001b[1m557/557\u001b[0m \u001b[32m━━━━━━━━━━━━━━━━━━━━\u001b[0m\u001b[37m\u001b[0m \u001b[1m1s\u001b[0m 2ms/step - accuracy: 0.9126 - loss: 0.2406 - val_accuracy: 0.8868 - val_loss: 0.3206\n",
      "Epoch 23/50\n",
      "\u001b[1m557/557\u001b[0m \u001b[32m━━━━━━━━━━━━━━━━━━━━\u001b[0m\u001b[37m\u001b[0m \u001b[1m1s\u001b[0m 2ms/step - accuracy: 0.9157 - loss: 0.2491 - val_accuracy: 0.8953 - val_loss: 0.2888\n",
      "Epoch 24/50\n",
      "\u001b[1m557/557\u001b[0m \u001b[32m━━━━━━━━━━━━━━━━━━━━\u001b[0m\u001b[37m\u001b[0m \u001b[1m1s\u001b[0m 2ms/step - accuracy: 0.9125 - loss: 0.2287 - val_accuracy: 0.8720 - val_loss: 0.3877\n",
      "Epoch 25/50\n",
      "\u001b[1m557/557\u001b[0m \u001b[32m━━━━━━━━━━━━━━━━━━━━\u001b[0m\u001b[37m\u001b[0m \u001b[1m1s\u001b[0m 2ms/step - accuracy: 0.9144 - loss: 0.2201 - val_accuracy: 0.9394 - val_loss: 0.1666\n",
      "Epoch 26/50\n",
      "\u001b[1m557/557\u001b[0m \u001b[32m━━━━━━━━━━━━━━━━━━━━\u001b[0m\u001b[37m\u001b[0m \u001b[1m1s\u001b[0m 2ms/step - accuracy: 0.9169 - loss: 0.2207 - val_accuracy: 0.9115 - val_loss: 0.2193\n",
      "Epoch 27/50\n",
      "\u001b[1m557/557\u001b[0m \u001b[32m━━━━━━━━━━━━━━━━━━━━\u001b[0m\u001b[37m\u001b[0m \u001b[1m1s\u001b[0m 3ms/step - accuracy: 0.9116 - loss: 0.2364 - val_accuracy: 0.9443 - val_loss: 0.1397\n",
      "Epoch 28/50\n",
      "\u001b[1m557/557\u001b[0m \u001b[32m━━━━━━━━━━━━━━━━━━━━\u001b[0m\u001b[37m\u001b[0m \u001b[1m1s\u001b[0m 2ms/step - accuracy: 0.9227 - loss: 0.2166 - val_accuracy: 0.8100 - val_loss: 0.4945\n",
      "Epoch 29/50\n",
      "\u001b[1m557/557\u001b[0m \u001b[32m━━━━━━━━━━━━━━━━━━━━\u001b[0m\u001b[37m\u001b[0m \u001b[1m1s\u001b[0m 2ms/step - accuracy: 0.9089 - loss: 0.2478 - val_accuracy: 0.9304 - val_loss: 0.1687\n",
      "Epoch 30/50\n",
      "\u001b[1m557/557\u001b[0m \u001b[32m━━━━━━━━━━━━━━━━━━━━\u001b[0m\u001b[37m\u001b[0m \u001b[1m1s\u001b[0m 2ms/step - accuracy: 0.9108 - loss: 0.2375 - val_accuracy: 0.8751 - val_loss: 0.2830\n",
      "Epoch 31/50\n",
      "\u001b[1m557/557\u001b[0m \u001b[32m━━━━━━━━━━━━━━━━━━━━\u001b[0m\u001b[37m\u001b[0m \u001b[1m1s\u001b[0m 2ms/step - accuracy: 0.9191 - loss: 0.2145 - val_accuracy: 0.9254 - val_loss: 0.1670\n",
      "Epoch 32/50\n",
      "\u001b[1m557/557\u001b[0m \u001b[32m━━━━━━━━━━━━━━━━━━━━\u001b[0m\u001b[37m\u001b[0m \u001b[1m1s\u001b[0m 2ms/step - accuracy: 0.9389 - loss: 0.1706 - val_accuracy: 0.8733 - val_loss: 0.7465\n",
      "Epoch 33/50\n",
      "\u001b[1m557/557\u001b[0m \u001b[32m━━━━━━━━━━━━━━━━━━━━\u001b[0m\u001b[37m\u001b[0m \u001b[1m1s\u001b[0m 1ms/step - accuracy: 0.9014 - loss: 0.3163 - val_accuracy: 0.9030 - val_loss: 0.2658\n",
      "Epoch 34/50\n",
      "\u001b[1m557/557\u001b[0m \u001b[32m━━━━━━━━━━━━━━━━━━━━\u001b[0m\u001b[37m\u001b[0m \u001b[1m1s\u001b[0m 2ms/step - accuracy: 0.9396 - loss: 0.1691 - val_accuracy: 0.9560 - val_loss: 0.1410\n",
      "Epoch 35/50\n",
      "\u001b[1m557/557\u001b[0m \u001b[32m━━━━━━━━━━━━━━━━━━━━\u001b[0m\u001b[37m\u001b[0m \u001b[1m1s\u001b[0m 1ms/step - accuracy: 0.9423 - loss: 0.1642 - val_accuracy: 0.9259 - val_loss: 0.1862\n",
      "Epoch 36/50\n",
      "\u001b[1m557/557\u001b[0m \u001b[32m━━━━━━━━━━━━━━━━━━━━\u001b[0m\u001b[37m\u001b[0m \u001b[1m1s\u001b[0m 1ms/step - accuracy: 0.9407 - loss: 0.1694 - val_accuracy: 0.9299 - val_loss: 0.1686\n",
      "Epoch 37/50\n",
      "\u001b[1m557/557\u001b[0m \u001b[32m━━━━━━━━━━━━━━━━━━━━\u001b[0m\u001b[37m\u001b[0m \u001b[1m1s\u001b[0m 1ms/step - accuracy: 0.9341 - loss: 0.1820 - val_accuracy: 0.9627 - val_loss: 0.1138\n",
      "Epoch 38/50\n",
      "\u001b[1m557/557\u001b[0m \u001b[32m━━━━━━━━━━━━━━━━━━━━\u001b[0m\u001b[37m\u001b[0m \u001b[1m1s\u001b[0m 1ms/step - accuracy: 0.9475 - loss: 0.1533 - val_accuracy: 0.9173 - val_loss: 0.1990\n",
      "Epoch 39/50\n",
      "\u001b[1m557/557\u001b[0m \u001b[32m━━━━━━━━━━━━━━━━━━━━\u001b[0m\u001b[37m\u001b[0m \u001b[1m1s\u001b[0m 2ms/step - accuracy: 0.9294 - loss: 0.1907 - val_accuracy: 0.9470 - val_loss: 0.1271\n",
      "Epoch 40/50\n",
      "\u001b[1m557/557\u001b[0m \u001b[32m━━━━━━━━━━━━━━━━━━━━\u001b[0m\u001b[37m\u001b[0m \u001b[1m1s\u001b[0m 1ms/step - accuracy: 0.9469 - loss: 0.1552 - val_accuracy: 0.9614 - val_loss: 0.1082\n",
      "Epoch 41/50\n",
      "\u001b[1m557/557\u001b[0m \u001b[32m━━━━━━━━━━━━━━━━━━━━\u001b[0m\u001b[37m\u001b[0m \u001b[1m1s\u001b[0m 1ms/step - accuracy: 0.9327 - loss: 0.1882 - val_accuracy: 0.9681 - val_loss: 0.1010\n",
      "Epoch 42/50\n",
      "\u001b[1m557/557\u001b[0m \u001b[32m━━━━━━━━━━━━━━━━━━━━\u001b[0m\u001b[37m\u001b[0m \u001b[1m1s\u001b[0m 2ms/step - accuracy: 0.9446 - loss: 0.1479 - val_accuracy: 0.9582 - val_loss: 0.1233\n",
      "Epoch 43/50\n",
      "\u001b[1m557/557\u001b[0m \u001b[32m━━━━━━━━━━━━━━━━━━━━\u001b[0m\u001b[37m\u001b[0m \u001b[1m1s\u001b[0m 1ms/step - accuracy: 0.9427 - loss: 0.1482 - val_accuracy: 0.9551 - val_loss: 0.1096\n",
      "Epoch 44/50\n",
      "\u001b[1m557/557\u001b[0m \u001b[32m━━━━━━━━━━━━━━━━━━━━\u001b[0m\u001b[37m\u001b[0m \u001b[1m1s\u001b[0m 1ms/step - accuracy: 0.9509 - loss: 0.1398 - val_accuracy: 0.9407 - val_loss: 0.1853\n",
      "Epoch 45/50\n",
      "\u001b[1m557/557\u001b[0m \u001b[32m━━━━━━━━━━━━━━━━━━━━\u001b[0m\u001b[37m\u001b[0m \u001b[1m1s\u001b[0m 1ms/step - accuracy: 0.9443 - loss: 0.1624 - val_accuracy: 0.9007 - val_loss: 0.2546\n",
      "Epoch 46/50\n",
      "\u001b[1m557/557\u001b[0m \u001b[32m━━━━━━━━━━━━━━━━━━━━\u001b[0m\u001b[37m\u001b[0m \u001b[1m1s\u001b[0m 1ms/step - accuracy: 0.9382 - loss: 0.1683 - val_accuracy: 0.9245 - val_loss: 0.1881\n",
      "Epoch 47/50\n",
      "\u001b[1m557/557\u001b[0m \u001b[32m━━━━━━━━━━━━━━━━━━━━\u001b[0m\u001b[37m\u001b[0m \u001b[1m1s\u001b[0m 1ms/step - accuracy: 0.9458 - loss: 0.1470 - val_accuracy: 0.8819 - val_loss: 0.3215\n",
      "Epoch 48/50\n",
      "\u001b[1m557/557\u001b[0m \u001b[32m━━━━━━━━━━━━━━━━━━━━\u001b[0m\u001b[37m\u001b[0m \u001b[1m1s\u001b[0m 1ms/step - accuracy: 0.9476 - loss: 0.1445 - val_accuracy: 0.9600 - val_loss: 0.1034\n",
      "Epoch 49/50\n",
      "\u001b[1m557/557\u001b[0m \u001b[32m━━━━━━━━━━━━━━━━━━━━\u001b[0m\u001b[37m\u001b[0m \u001b[1m1s\u001b[0m 2ms/step - accuracy: 0.9407 - loss: 0.1583 - val_accuracy: 0.9582 - val_loss: 0.1236\n",
      "Epoch 50/50\n",
      "\u001b[1m557/557\u001b[0m \u001b[32m━━━━━━━━━━━━━━━━━━━━\u001b[0m\u001b[37m\u001b[0m \u001b[1m1s\u001b[0m 1ms/step - accuracy: 0.9412 - loss: 0.1575 - val_accuracy: 0.9236 - val_loss: 0.1696\n"
     ]
    },
    {
     "data": {
      "text/plain": [
       "<keras.src.callbacks.history.History at 0x2934494e410>"
      ]
     },
     "execution_count": 100,
     "metadata": {},
     "output_type": "execute_result"
    }
   ],
   "source": [
    "# Train Model\n",
    "model.fit(X_train, y_train, epochs=50, batch_size=16, validation_data=(X_test, y_test))"
   ]
  },
  {
   "cell_type": "code",
   "execution_count": null,
   "metadata": {},
   "outputs": [
    {
     "name": "stdout",
     "output_type": "stream",
     "text": [
      "WARNING:tensorflow:5 out of the last 20 calls to <function TensorFlowTrainer.make_predict_function.<locals>.one_step_on_data_distributed at 0x0000029344A7CFE0> triggered tf.function retracing. Tracing is expensive and the excessive number of tracings could be due to (1) creating @tf.function repeatedly in a loop, (2) passing tensors with different shapes, (3) passing Python objects instead of tensors. For (1), please define your @tf.function outside of the loop. For (2), @tf.function has reduce_retracing=True option that can avoid unnecessary retracing. For (3), please refer to https://www.tensorflow.org/guide/function#controlling_retracing and https://www.tensorflow.org/api_docs/python/tf/function for  more details.\n"
     ]
    },
    {
     "name": "stderr",
     "output_type": "stream",
     "text": [
      "WARNING:tensorflow:5 out of the last 20 calls to <function TensorFlowTrainer.make_predict_function.<locals>.one_step_on_data_distributed at 0x0000029344A7CFE0> triggered tf.function retracing. Tracing is expensive and the excessive number of tracings could be due to (1) creating @tf.function repeatedly in a loop, (2) passing tensors with different shapes, (3) passing Python objects instead of tensors. For (1), please define your @tf.function outside of the loop. For (2), @tf.function has reduce_retracing=True option that can avoid unnecessary retracing. For (3), please refer to https://www.tensorflow.org/guide/function#controlling_retracing and https://www.tensorflow.org/api_docs/python/tf/function for  more details.\n"
     ]
    },
    {
     "name": "stdout",
     "output_type": "stream",
     "text": [
      "\u001b[1m70/70\u001b[0m \u001b[32m━━━━━━━━━━━━━━━━━━━━\u001b[0m\u001b[37m\u001b[0m \u001b[1m0s\u001b[0m 1ms/step  \n",
      "✅ Genre Classification Accuracy: 0.92\n",
      "              precision    recall  f1-score   support\n",
      "\n",
      "           0       0.97      0.94      0.95       802\n",
      "           1       0.86      1.00      0.93       907\n",
      "           2       1.00      0.72      0.84       368\n",
      "           3       1.00      1.00      1.00        40\n",
      "           4       0.96      0.83      0.89       109\n",
      "\n",
      "    accuracy                           0.92      2226\n",
      "   macro avg       0.96      0.90      0.92      2226\n",
      "weighted avg       0.93      0.92      0.92      2226\n",
      "\n"
     ]
    }
   ],
   "source": [
    "# Evaluate Model\n",
    "y_pred = np.argmax(model.predict(X_test), axis=1)\n",
    "accuracy = accuracy_score(y_test, y_pred)\n",
    "print(f\"✅ Genre Classification Accuracy: {accuracy:.2f}\")\n",
    "print(classification_report(y_test, y_pred, target_names=label_encoder.classes_))"
   ]
  },
  {
   "cell_type": "code",
   "execution_count": null,
   "metadata": {},
   "outputs": [
    {
     "name": "stderr",
     "output_type": "stream",
     "text": [
      "WARNING:absl:You are saving your model as an HDF5 file via `model.save()` or `keras.saving.save_model(model)`. This file format is considered legacy. We recommend using instead the native Keras format, e.g. `model.save('my_model.keras')` or `keras.saving.save_model(model, 'my_model.keras')`. \n"
     ]
    },
    {
     "name": "stdout",
     "output_type": "stream",
     "text": [
      "✅ Model saved successfully!\n"
     ]
    }
   ],
   "source": [
    "# Save Model\n",
    "model.save(\"genre_classification_model.h5\")\n",
    "print(\"✅ Model saved successfully!\")"
   ]
  }
 ],
 "metadata": {
  "kernelspec": {
   "display_name": "Python 3",
   "language": "python",
   "name": "python3"
  },
  "language_info": {
   "codemirror_mode": {
    "name": "ipython",
    "version": 3
   },
   "file_extension": ".py",
   "mimetype": "text/x-python",
   "name": "python",
   "nbconvert_exporter": "python",
   "pygments_lexer": "ipython3",
   "version": "3.11.5"
  }
 },
 "nbformat": 4,
 "nbformat_minor": 2
}
